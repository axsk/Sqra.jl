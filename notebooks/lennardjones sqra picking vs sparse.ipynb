{
 "cells": [
  {
   "cell_type": "markdown",
   "source": [
    "# SQRA with Lennar Jones Clusters - Convergence analysis\n",
    "\n",
    "## The Setup\n",
    "We start with a (1) simulation of a trajectory of the Lennard Jones cluster dynamics for 3 Particles in 2-Space.\n",
    "The resulting points will be used for a subsampling procedure to obtain the cells for the SQRA.\n",
    "There are two options:\n",
    "- The Picking algorith: \\\n",
    "\tPick iteratively the point farthest from all previously picked points. For the adjacency matrix required for the SQRA we use a heuristic to match an expected average number of neighbours by a distance threshold. The Volumes and Areas of the cells are assumed to be uniform.\n",
    "\n",
    "- Sparse Boxes: \\\n",
    "\tWe cover the trajectory with a grid of regular boxes. In this regime the adjacency is clear and volumes and areas are constant.\n",
    "\tFor the estimation of the (assumedly constant) potential in each box we use the minimum of the correspoding samples.\n",
    "\n",
    "### Postprocessing of the SQRA:\n",
    "In order to obtain a 'nice' generator matrix we prune states with outbound rates above a certain thresholds and afterwards (unconnected) states without incoming rates.\n",
    "\n",
    "## Committor computation\n",
    "Based on the relative angles of the 3 particles we classify the states into the states: right oriented, left oriented, unoriented.\n",
    "We then compute the committor function between the left and right orientations.\n",
    "\n",
    "## Convergence analysis\n",
    "In order to analyse the convergence of the SQRA we compute the committors for different levels of the sparse box discretization.\n",
    "We then compute the distances of the committors (of different resolutions) with the finest committor.\n",
    "\n",
    "For the distance we use the MSE on the support of the finest discretization."
   ],
   "metadata": {}
  },
  {
   "cell_type": "code",
   "execution_count": 4,
   "source": [
    "using Revise\n",
    "using Sqra\n",
    "using Plots\n",
    "using Arpack\n",
    "using LinearAlgebra, Random\n",
    "plotly(fmt=:png)"
   ],
   "outputs": [
    {
     "output_type": "execute_result",
     "data": {
      "text/plain": [
       "Plots.PlotlyBackend()"
      ]
     },
     "metadata": {},
     "execution_count": 4
    }
   ],
   "metadata": {}
  },
  {
   "cell_type": "markdown",
   "source": [
    "# Simulation"
   ],
   "metadata": {}
  },
  {
   "cell_type": "markdown",
   "source": [
    "We start by simulation a long trajectory to explore the state space.\n",
    "We use these samples as a basis for either subsampling with the picking algorithm (`:voronoi`)\n",
    "or for selecting the sparse boxes for a given discretization level (`ncells` in each direction)"
   ],
   "metadata": {}
  },
  {
   "cell_type": "code",
   "execution_count": 33,
   "source": [
    "using Profile\n",
    "Profile.init()\n",
    "Profile.init(10_000_000, 0.1)"
   ],
   "outputs": [],
   "metadata": {}
  },
  {
   "cell_type": "code",
   "execution_count": 34,
   "source": [
    "#Random.seed!(0)\n",
    "@profile sim = Sqra.run(Sqra.Simulation(nsteps=2_000_000, sigma=.5, maxdelta=0.01, seed=rand(UInt)))"
   ],
   "outputs": [
    {
     "output_type": "stream",
     "name": "stderr",
     "text": [
      "\u001b[32mEuler Maruyama simulation100%|██████████████████████████| Time: 0:00:46\u001b[39m\n",
      "┌ Info: saved new entry\n",
      "└ @ Sqra /home/htc/bzfsikor/code/Sqra.jl/src/permadict.jl:27\n"
     ]
    },
    {
     "output_type": "execute_result",
     "data": {
      "text/plain": [
       "Sqra.Simulation\n",
       "  x0: Array{Float64}((6,)) [0.19920158482463968, 0.13789462153196408, -0.1709575705426315, 0.0784533378749835, 0.06778720715969005, -0.2112155752270007]\n",
       "  epsilon: Int64 1\n",
       "  r0: Float64 0.3333333333333333\n",
       "  harm: Int64 1\n",
       "  sigma: Float64 0.5\n",
       "  dt: Float64 0.001\n",
       "  nsteps: Int64 2000000\n",
       "  maxdelta: Float64 0.01\n",
       "  seed: UInt64 0x1c9f879269bde138\n",
       "  x: Array{Float64}((6, 2000001)) [0.19920158482463968 0.21829736041164463 … -0.15702675522255677 -0.15498278790861944; 0.13789462153196408 0.11936988751377531 … -0.17577924583960525 -0.1981373259931556; … ; 0.06778720715969005 0.06196063372663429 … -0.23601623890872017 -0.23651442806580264; -0.2112155752270007 -0.2236839921108189 … -0.5436346948732401 -0.5492257411685667]\n",
       "  u: Array{Float64}((2000001,)) [-2.855863452445878, -2.6897250754717694, -2.566919907033898, -2.63193392676249, -2.6275558675518287, -2.574937520175813, -2.240676948524751, -2.29264110352562, -2.512976412464236, -2.675950653103219  …  -2.279607262266034, -2.313690769226435, -2.362307231210004, -1.5389731555751336, -2.317599999907017, -2.3947700564844276, -2.2953369562112096, -1.7791723361587946, -2.3889344720653294, -2.20864408859269]\n"
      ]
     },
     "metadata": {},
     "execution_count": 34
    }
   ],
   "metadata": {}
  },
  {
   "cell_type": "code",
   "execution_count": 41,
   "source": [
    "Profile.print(maxdepth=15, mincount=40)"
   ],
   "outputs": [
    {
     "output_type": "stream",
     "name": "stdout",
     "text": [
      "Overhead ╎ [+additional indent] Count File:Line; Function\n",
      "=========================================================\n",
      "   ╎509  @Base/task.jl:411; (::IJulia.var\"#15#18\")()\n",
      "   ╎ 509  ...lia/src/eventloop.jl:8; eventloop(socket::ZMQ.Socket)\n",
      "   ╎  509  @Base/essentials.jl:706; invokelatest\n",
      "   ╎   509  @Base/essentials.jl:708; #invokelatest#2\n",
      "   ╎    509  .../execute_request.jl:67; execute_request(socket::ZMQ.So...\n",
      "   ╎     509  ...SoftGlobalScope.jl:65; softscope_include_string(m::M...\n",
      "   ╎    ╎ 509  @Base/loading.jl:1094; include_string(mapexpr::typ...\n",
      "   ╎    ╎  509  @Base/boot.jl:360; eval\n",
      "   ╎    ╎   509  ...ze/src/Memoize.jl:61; run(params::Sqra.Simulation)\n",
      "   ╎    ╎    508  .../src/permadict.jl:25; get!(f::Sqra.var\"#13#15\"{Sq...\n",
      "   ╎    ╎     508  ...e/src/Memoize.jl:62; #13\n",
      "   ╎    ╎    ╎ 461  .../lennardjones.jl:95; var\"##run_unmemoized\"(par...\n",
      "   ╎    ╎    ╎  461  ...ulermaruyama.jl:29; (::Sqra.var\"#eulermaruyam...\n",
      "   ╎    ╎    ╎   56   ...ulermaruyama.jl:41; eulermaruyama(x0::Vector...\n",
      "   ╎    ╎    ╎    56   ...src/gradient.jl:35; gradient!(result::Vector...\n",
      "   ╎    ╎    ╎     56   ...rc/gradient.jl:37; gradient!\n",
      "   ╎    ╎    ╎   388  ...ulermaruyama.jl:45; eulermaruyama(x0::Vector...\n",
      "   ╎    ╎    ╎    386  ...lermaruyama.jl:29; (::Sqra.var\"#eulermaru...\n",
      "  1╎    ╎    ╎     158  ...lermaruyama.jl:41; eulermaruyama(x0::Vecto...\n",
      "   ╎    ╎    ╎     82   ...lermaruyama.jl:45; eulermaruyama(x0::Vecto...\n",
      "   ╎    ╎    ╎     60   ...lermaruyama.jl:52; eulermaruyama(x0::Vecto...\n",
      "   ╎    ╎    ╎ 47   .../lennardjones.jl:97; var\"##run_unmemoized\"(par...\n",
      "   ╎    ╎    ╎  47   ...bstractarray.jl:2194; (::Base.var\"#mapslices##...\n",
      "   ╎    ╎    ╎   47   ...stractarray.jl:2251; mapslices(f::Sqra.var\"#...\n",
      "  2╎    ╎    ╎    42   ...stractarray.jl:2261; inner_mapslices!(safe_...\n",
      "Total snapshots: 1020\n"
     ]
    }
   ],
   "metadata": {}
  },
  {
   "cell_type": "code",
   "execution_count": null,
   "source": [
    "r = Sqra.discretize(Sqra.SpBoxDiscretisation(ncells=15, prune=Inf), sim)"
   ],
   "outputs": [],
   "metadata": {}
  },
  {
   "cell_type": "code",
   "execution_count": null,
   "source": [
    "plot(sum(r.Q .> 0, dims=1)|>vec|>sort, title=\"number of neighbours\")"
   ],
   "outputs": [],
   "metadata": {
    "scrolled": true
   }
  },
  {
   "cell_type": "code",
   "execution_count": null,
   "source": [
    "plot(-diag(r.Q), yaxis=:log, title=\"distribution of outbound rates\")"
   ],
   "outputs": [],
   "metadata": {}
  },
  {
   "cell_type": "code",
   "execution_count": null,
   "source": [
    "plot(r.u)"
   ],
   "outputs": [],
   "metadata": {}
  },
  {
   "cell_type": "code",
   "execution_count": null,
   "source": [
    "plot((sort(-diag(r.Q))), yaxis=:log)"
   ],
   "outputs": [],
   "metadata": {}
  },
  {
   "cell_type": "code",
   "execution_count": null,
   "source": [
    "println(\"size of system\")\n",
    "length(r.Q.nzval), size(r.Q)"
   ],
   "outputs": [],
   "metadata": {}
  },
  {
   "cell_type": "code",
   "execution_count": null,
   "source": [
    "@time c=Sqra.committor(r, Sqra.gmres, precondition=false, maxiter=10000)\n",
    "\n"
   ],
   "outputs": [],
   "metadata": {}
  },
  {
   "cell_type": "markdown",
   "source": [
    "# Analysis of committor solver convergence"
   ],
   "metadata": {}
  },
  {
   "cell_type": "markdown",
   "source": [
    "We compare different solvers for the linear system, as well as the solutions of a more pruned system.\n",
    "Pruning is mainly there to enable solution of the linear committor system.\n",
    "On the other hand iterative solvers might maybe help to compute ill conditioned systems?\n",
    "After all the large outbound rates should not play a role in the computation.\n",
    "We might as well try preconditioning with the diagonal rates!"
   ],
   "metadata": {}
  },
  {
   "cell_type": "code",
   "execution_count": null,
   "source": [
    "c = @time Sqra.committor(r, maxiter=10000)"
   ],
   "outputs": [],
   "metadata": {}
  },
  {
   "cell_type": "code",
   "execution_count": null,
   "source": [
    "@show beta = Sqra.sigma_to_beta(sim.sigma)\n",
    "\n",
    "stat = stat / sum(stat)\n",
    "plot(stat)"
   ],
   "outputs": [],
   "metadata": {}
  },
  {
   "cell_type": "code",
   "execution_count": null,
   "source": [
    "A, b = Sqra.committor_system(r.Q, Sqra.classify(r.picks))\n",
    "\n",
    "sqrt(sum(abs2, (A*c - b)[abs.(diag(r.Q))  .< 1e5]))\n",
    "\n"
   ],
   "outputs": [],
   "metadata": {}
  },
  {
   "cell_type": "markdown",
   "source": [
    "# Taking a look at committor solution"
   ],
   "metadata": {}
  },
  {
   "cell_type": "code",
   "execution_count": null,
   "source": [
    "# plot states with a committor value in the defined range\n",
    "transind = rand(findall((0.4 .<c.<0.6)), 100)\n",
    "plot()\n",
    "Sqra.plot_triangles!(Sqra.normalform(r.picks[:, transind]))"
   ],
   "outputs": [],
   "metadata": {}
  },
  {
   "cell_type": "code",
   "execution_count": null,
   "source": [
    "# plot the rotated and translated normal form of the LJ clusters and color by committor\n",
    "\n",
    "plot()\n",
    "plotint = 1:30:size(r.picks,2)\n",
    "color = c\n",
    "let points = r.picks[:, plotint], col = c[plotint]\n",
    "#let points = r.picks[:, pinds], col = x\n",
    "\t@time Sqra.plot_trajectories(Sqra.normalform(points), alpha=0.3, marker_z=col) |> display;\n",
    "end "
   ],
   "outputs": [],
   "metadata": {}
  },
  {
   "cell_type": "code",
   "execution_count": null,
   "source": [
    "# plot the JL cluster states in original coordinates\n",
    "plot();\n",
    "@time Sqra.plot_trajectories(r.picks[:,plotint], alpha=0.1) |> display;\n",
    "#plot_trajectories(r.x[:,1:end], alpha=0.01, markersize=0.5)"
   ],
   "outputs": [],
   "metadata": {}
  },
  {
   "cell_type": "code",
   "execution_count": null,
   "source": [
    "plot(c|>sort, title=\"distribution of committor values\")"
   ],
   "outputs": [],
   "metadata": {}
  },
  {
   "cell_type": "markdown",
   "source": [
    "# Convergence of committors\n"
   ],
   "metadata": {}
  },
  {
   "cell_type": "code",
   "execution_count": null,
   "source": [
    "runs = []\n",
    "\n",
    "levels=3:14\n",
    "\n",
    "for ncells in levels\n",
    "\tr = Sqra.discretize(Sqra.SpBoxDiscretisation(ncells=ncells), sim)\n",
    "\tc = Sqra.committor(r)\n",
    "\tpush!(runs, (c=c, r=r))\n",
    "end"
   ],
   "outputs": [],
   "metadata": {}
  },
  {
   "cell_type": "code",
   "execution_count": null,
   "source": [
    "@timed arst=1"
   ],
   "outputs": [],
   "metadata": {}
  },
  {
   "cell_type": "code",
   "execution_count": null,
   "source": [
    "_c = runs[end].c\n",
    "_carts = runs[end].r.cartesians\n",
    "_ncells = runs[end].r.ncells\n",
    "\n",
    "conv = map(runs) do run\n",
    "\tc = run.c\n",
    "\tcarts = run.r.cartesians\n",
    "\tncells = run.r.ncells\n",
    "\n",
    "\t@time Sqra.sp_mse(c, _c, carts, _carts, ncells,  _ncells)\n",
    "end"
   ],
   "outputs": [],
   "metadata": {}
  },
  {
   "cell_type": "code",
   "execution_count": null,
   "source": [
    "plot(levels[1:end-1],conv[1:end-1], yaxis=:log, xaxis=:log)"
   ],
   "outputs": [],
   "metadata": {}
  },
  {
   "cell_type": "code",
   "execution_count": null,
   "source": [
    "string(hash(_c))"
   ],
   "outputs": [],
   "metadata": {}
  },
  {
   "cell_type": "code",
   "execution_count": null,
   "source": [
    "]resolve"
   ],
   "outputs": [],
   "metadata": {}
  },
  {
   "cell_type": "code",
   "execution_count": null,
   "source": [
    "@time Sqra.batch(levels=3:5);"
   ],
   "outputs": [],
   "metadata": {}
  },
  {
   "cell_type": "code",
   "execution_count": null,
   "source": [],
   "outputs": [],
   "metadata": {}
  },
  {
   "cell_type": "code",
   "execution_count": null,
   "source": [
    "Sqra.jldopen(\"3.jld2\") |>close"
   ],
   "outputs": [],
   "metadata": {}
  },
  {
   "cell_type": "markdown",
   "source": [
    "# Convergence of picking, Part 1\n",
    "We analyse how the number of boxes increases with growing sample size and resolution"
   ],
   "metadata": {}
  },
  {
   "cell_type": "code",
   "execution_count": null,
   "source": [
    "]add Parameters"
   ],
   "outputs": [],
   "metadata": {}
  },
  {
   "cell_type": "code",
   "execution_count": null,
   "source": [
    "plot()\n",
    "for n in [3,4,5,6,8,10]\n",
    "    _, _, order = Sqra.sparseboxpick(r.x, n, ones(size(r.x,2)), r.boundary)\n",
    "    plot!(order, 1:length(order), )\n",
    "    accel =  (order[end]-order[end-10]) / 10\n",
    "    #println(\" $(length(order)/size(r.x, 2)  / accel * 100) % verbesserung pro prozent \")\n",
    "end\n",
    "plot!(legend=false, xlabel=\"# samples\", ylabel=\"# boxes\", yaxis=:log, xaxis=:log)"
   ],
   "outputs": [],
   "metadata": {}
  },
  {
   "cell_type": "code",
   "execution_count": null,
   "source": [],
   "outputs": [],
   "metadata": {}
  },
  {
   "cell_type": "markdown",
   "source": [
    "# --- OLD SNIPPETS --- #"
   ],
   "metadata": {}
  },
  {
   "cell_type": "markdown",
   "source": [
    "# Generator preprocessing"
   ],
   "metadata": {}
  },
  {
   "cell_type": "markdown",
   "source": [],
   "metadata": {}
  },
  {
   "cell_type": "markdown",
   "source": [],
   "metadata": {}
  },
  {
   "cell_type": "code",
   "execution_count": null,
   "source": [
    "cutoff = 3\n",
    "prune = Inf\n",
    "\n",
    "Q, pinds = Sqra.prune_Q(r.Q,Inf)\n",
    "\n",
    "Q.nzval[Q.nzval.>cutoff] .= cutoff\n",
    "Q = Sqra.fixdiagonal(Q)"
   ],
   "outputs": [],
   "metadata": {}
  },
  {
   "cell_type": "code",
   "execution_count": null,
   "source": [
    "plot((Q.nzval|>sort))"
   ],
   "outputs": [],
   "metadata": {}
  },
  {
   "cell_type": "markdown",
   "source": [
    "# Committor convergence"
   ],
   "metadata": {}
  },
  {
   "cell_type": "code",
   "execution_count": null,
   "source": [
    "Sqra.solve_committor(Q, r.classes[pinds])"
   ],
   "outputs": [],
   "metadata": {}
  },
  {
   "cell_type": "markdown",
   "source": [
    "# Spectrum"
   ],
   "metadata": {}
  },
  {
   "cell_type": "code",
   "execution_count": null,
   "source": [
    "@time evals, evecs = eigs(Q, which=:LR, maxiter=10000, tol=10)"
   ],
   "outputs": [],
   "metadata": {}
  },
  {
   "cell_type": "code",
   "execution_count": null,
   "source": [
    "evals"
   ],
   "outputs": [],
   "metadata": {}
  },
  {
   "cell_type": "code",
   "execution_count": null,
   "source": [
    "plot(evecs[:,:].|>real)\n",
    "#plot!(r.classes, alpha=0.5)"
   ],
   "outputs": [],
   "metadata": {
    "scrolled": false
   }
  },
  {
   "cell_type": "markdown",
   "source": [
    "# Cell analysis"
   ],
   "metadata": {}
  },
  {
   "cell_type": "code",
   "execution_count": null,
   "source": [
    "prob = argmin(diag(r.Q))"
   ],
   "outputs": [],
   "metadata": {}
  },
  {
   "cell_type": "code",
   "execution_count": null,
   "source": [
    "@show r.Q[prob,:]\n",
    "neighs = r.Q[prob,:].nzind;"
   ],
   "outputs": [],
   "metadata": {}
  },
  {
   "cell_type": "code",
   "execution_count": null,
   "source": [
    "@show r.us[prob]\n",
    "r.us[neighs]"
   ],
   "outputs": [],
   "metadata": {}
  },
  {
   "cell_type": "code",
   "execution_count": null,
   "source": [
    "plot(); Sqra.plot_trajectories(r.picks[:,prob])\n",
    "Sqra.plot_triangles!(r.picks[:, neighs], color=:black, alpha=0.8, legend=false)"
   ],
   "outputs": [],
   "metadata": {}
  },
  {
   "cell_type": "markdown",
   "source": [
    "# Spectrum again"
   ],
   "metadata": {}
  },
  {
   "cell_type": "code",
   "execution_count": null,
   "source": [
    "evals, evecs = eigs(r.Q, which=:SM, nev=6)#, check=0, maxiter=1000, tol=0)\n",
    "evecs = real.(evecs)\n",
    "evals"
   ],
   "outputs": [],
   "metadata": {}
  },
  {
   "cell_type": "code",
   "execution_count": null,
   "source": [
    "evecs"
   ],
   "outputs": [],
   "metadata": {}
  },
  {
   "cell_type": "code",
   "execution_count": null,
   "source": [
    "plot(real.(evecs))"
   ],
   "outputs": [],
   "metadata": {}
  },
  {
   "cell_type": "code",
   "execution_count": null,
   "source": [
    "step=100\n",
    "for evec in 1:length(evals)\n",
    "\n",
    "    col = real.(evecs[:,evec])[1:step:end]\n",
    "    data = center[:,1:step:end]\n",
    "    plot();\n",
    "    plot_trajectories(normalform(data), alpha=0.3, marker_z=col, clims=(-1,1).*std(col), seriescolor=:bwr) |> display\n",
    "\n",
    "    scatter(data[1,:], data[2,:], alpha=0.3, marker_z=col, clims=(-1,1).*std(col), seriescolor=:bwr) |> display\n",
    "end"
   ],
   "outputs": [],
   "metadata": {
    "scrolled": false
   }
  }
 ],
 "metadata": {
  "@webio": {
   "lastCommId": null,
   "lastKernelId": null
  },
  "kernelspec": {
   "display_name": "Julia 1.6.1",
   "language": "julia",
   "name": "julia-1.6"
  },
  "language_info": {
   "file_extension": ".jl",
   "name": "julia",
   "mimetype": "application/julia",
   "version": "1.6.1"
  }
 },
 "nbformat": 4,
 "nbformat_minor": 4
}