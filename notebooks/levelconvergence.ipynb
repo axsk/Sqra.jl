{
 "cells": [
  {
   "cell_type": "code",
   "execution_count": 1,
   "source": [
    "using Revise, Sqra, Plots\n",
    "Sqra.CACHE!()"
   ],
   "outputs": [
    {
     "output_type": "stream",
     "name": "stderr",
     "text": [
      "┌ Info: Precompiling Sqra [561b40b7-a0ab-4084-b14c-be45599a2ca9]\n",
      "└ @ Base loading.jl:1317\n"
     ]
    },
    {
     "output_type": "execute_result",
     "data": {
      "text/plain": [
       "(true, true)"
      ]
     },
     "metadata": {},
     "execution_count": 1
    }
   ],
   "metadata": {}
  },
  {
   "cell_type": "code",
   "execution_count": 9,
   "source": [
    "#s0im = Simulation(x0 = Float32.(Sqra.x0gen), nsteps=1_000_000)\n",
    "sim = Simulation(nsteps=10_000_000)\n",
    "run(sim)"
   ],
   "outputs": [
    {
     "output_type": "stream",
     "name": "stderr",
     "text": [
      "┌ Info: reading cache/sim_18164615234929798187.jld2\n",
      "└ @ Sqra /home/htc/bzfsikor/code/Sqra.jl/src/permadict.jl:41\n"
     ]
    },
    {
     "output_type": "execute_result",
     "data": {
      "text/plain": [
       "Simulation\n",
       "  x0: Array{Float64}((6,)) [0.19920158482463968, 0.13789462153196408, -0.1709575705426315, 0.0784533378749835, 0.06778720715969005, -0.2112155752270007]\n",
       "  epsilon: Int64 1\n",
       "  r0: Float64 0.3333333333333333\n",
       "  harm: Int64 1\n",
       "  sigma: Float64 0.5\n",
       "  dt: Float64 0.001\n",
       "  nsteps: Int64 10000000\n",
       "  maxdelta: Float64 0.1\n",
       "  seed: Int64 1\n",
       "  x: Array{Float64}((6, 10000000)) [0.20334321106184075 0.23323639105016725 … 0.061857877544676435 0.11390633113939738; 0.14416632237604463 0.10459139091170935 … -0.04035353858853223 -0.042598605124876586; … ; 0.053788009335393364 0.06679886031379578 … -0.022763912382464665 -0.010767213631356147; -0.20596632763897224 -0.19111568330233175 … 0.36841990153469534 0.3654551135298005]\n",
       "  u: Array{Float64}((10000000,)) [-2.7899344658297394, -2.0767964628456994, -1.8682213972516182, -2.0773918396090956, -2.3579304739127185, -2.8050196206903886, -2.506948656244679, -2.465898421806273, -2.587451882125607, -2.5008280857245433  …  -2.5049017711498136, -2.536318710962578, -2.3299742966066748, -2.461021350047426, -2.4895974903030953, -2.3875413964454473, -2.418936616699478, -2.3426741801958775, -2.2717869752069344, -2.1068865381093924]\n"
      ]
     },
     "metadata": {},
     "execution_count": 9
    }
   ],
   "metadata": {}
  },
  {
   "cell_type": "code",
   "execution_count": 12,
   "source": [
    "levels = 2:25\n",
    "\n",
    "r = Vector(undef, length(levels))\n",
    "\n",
    "for (i,l) in enumerate(levels)\n",
    "\t@show l\n",
    "\ts = Setup(sim=sim, level=l)\n",
    "\t@time r[i]= Experiment(s)\n",
    "end"
   ],
   "outputs": [
    {
     "output_type": "stream",
     "name": "stdout",
     "text": [
      "l = 2\n"
     ]
    },
    {
     "output_type": "stream",
     "name": "stderr",
     "text": [
      "┌ Info: reading cache/sim_18164615234929798187.jld2\n",
      "└ @ Sqra /home/htc/bzfsikor/code/Sqra.jl/src/permadict.jl:41\n"
     ]
    },
    {
     "output_type": "stream",
     "name": "stdout",
     "text": [
      "Committor residual mean: 0.0\n",
      "  2.710766 seconds (10.00 M allocations: 2.339 GiB, 17.99% gc time)\n",
      "l = 3\n"
     ]
    },
    {
     "output_type": "stream",
     "name": "stderr",
     "text": [
      "┌ Info: reading cache/sim_18164615234929798187.jld2\n",
      "└ @ Sqra /home/htc/bzfsikor/code/Sqra.jl/src/permadict.jl:41\n"
     ]
    },
    {
     "output_type": "stream",
     "name": "stdout",
     "text": [
      "Committor residual mean: 7.938488581129882e-8\n",
      "  3.119278 seconds (10.03 M allocations: 2.335 GiB, 22.12% gc time)\n",
      "l = 4\n"
     ]
    },
    {
     "output_type": "stream",
     "name": "stderr",
     "text": [
      "┌ Info: reading cache/sim_18164615234929798187.jld2\n",
      "└ @ Sqra /home/htc/bzfsikor/code/Sqra.jl/src/permadict.jl:41\n"
     ]
    },
    {
     "output_type": "stream",
     "name": "stdout",
     "text": [
      "Committor residual mean: 3.630866122867523e-8\n",
      "  2.650336 seconds (10.12 M allocations: 2.350 GiB, 3.74% gc time)\n",
      "l = 5\n"
     ]
    },
    {
     "output_type": "stream",
     "name": "stderr",
     "text": [
      "┌ Info: reading cache/sim_18164615234929798187.jld2\n",
      "└ @ Sqra /home/htc/bzfsikor/code/Sqra.jl/src/permadict.jl:41\n"
     ]
    },
    {
     "output_type": "stream",
     "name": "stdout",
     "text": [
      "Committor residual mean: 1.224476476433849e-7\n",
      "  4.079862 seconds (10.31 M allocations: 2.358 GiB, 43.51% gc time)\n",
      "l = 6\n"
     ]
    },
    {
     "output_type": "stream",
     "name": "stderr",
     "text": [
      "┌ Info: reading cache/sim_18164615234929798187.jld2\n",
      "└ @ Sqra /home/htc/bzfsikor/code/Sqra.jl/src/permadict.jl:41\n"
     ]
    },
    {
     "output_type": "stream",
     "name": "stdout",
     "text": [
      "Committor residual mean: 1.5964019113008732e-7\n",
      "  3.519583 seconds (10.57 M allocations: 2.391 GiB, 31.81% gc time)\n",
      "l = 7\n"
     ]
    },
    {
     "output_type": "stream",
     "name": "stderr",
     "text": [
      "┌ Info: reading cache/sim_18164615234929798187.jld2\n",
      "└ @ Sqra /home/htc/bzfsikor/code/Sqra.jl/src/permadict.jl:41\n"
     ]
    },
    {
     "output_type": "stream",
     "name": "stdout",
     "text": [
      "Committor residual mean: 5.081725657835077e-7\n",
      "  3.795214 seconds (10.98 M allocations: 2.421 GiB, 30.45% gc time)\n",
      "l = 8\n"
     ]
    },
    {
     "output_type": "stream",
     "name": "stderr",
     "text": [
      "┌ Info: reading cache/sim_18164615234929798187.jld2\n",
      "└ @ Sqra /home/htc/bzfsikor/code/Sqra.jl/src/permadict.jl:41\n"
     ]
    },
    {
     "output_type": "stream",
     "name": "stdout",
     "text": [
      "Committor residual mean: 4.43882394789057e-7\n",
      "  4.818338 seconds (11.75 M allocations: 2.479 GiB, 37.73% gc time)\n",
      "l = 9\n"
     ]
    },
    {
     "output_type": "stream",
     "name": "stderr",
     "text": [
      "┌ Info: reading cache/sim_18164615234929798187.jld2\n",
      "└ @ Sqra /home/htc/bzfsikor/code/Sqra.jl/src/permadict.jl:41\n"
     ]
    },
    {
     "output_type": "stream",
     "name": "stdout",
     "text": [
      "Committor residual mean: 6.539690483741817e-7\n",
      "  5.036156 seconds (12.68 M allocations: 2.544 GiB, 31.94% gc time)\n",
      "l = 10\n"
     ]
    },
    {
     "output_type": "stream",
     "name": "stderr",
     "text": [
      "┌ Info: reading cache/sim_18164615234929798187.jld2\n",
      "└ @ Sqra /home/htc/bzfsikor/code/Sqra.jl/src/permadict.jl:41\n"
     ]
    },
    {
     "output_type": "stream",
     "name": "stdout",
     "text": [
      "Committor residual mean: 8.55200283603115e-7\n",
      "  5.606448 seconds (13.55 M allocations: 2.605 GiB, 31.06% gc time)\n",
      "l = 11\n"
     ]
    },
    {
     "output_type": "stream",
     "name": "stderr",
     "text": [
      "┌ Info: reading cache/sim_18164615234929798187.jld2\n",
      "└ @ Sqra /home/htc/bzfsikor/code/Sqra.jl/src/permadict.jl:41\n"
     ]
    },
    {
     "output_type": "stream",
     "name": "stdout",
     "text": [
      "Committor residual mean: 9.242784605031295e-7\n",
      "  6.745189 seconds (14.86 M allocations: 2.687 GiB, 29.10% gc time)\n",
      "l = 12\n"
     ]
    },
    {
     "output_type": "stream",
     "name": "stderr",
     "text": [
      "┌ Info: reading cache/sim_18164615234929798187.jld2\n",
      "└ @ Sqra /home/htc/bzfsikor/code/Sqra.jl/src/permadict.jl:41\n"
     ]
    },
    {
     "output_type": "stream",
     "name": "stdout",
     "text": [
      "Committor residual mean: 9.468863546332269e-7\n",
      "  8.579268 seconds (16.83 M allocations: 2.829 GiB, 26.66% gc time)\n",
      "l = 13\n"
     ]
    },
    {
     "output_type": "stream",
     "name": "stderr",
     "text": [
      "┌ Info: reading cache/sim_18164615234929798187.jld2\n",
      "└ @ Sqra /home/htc/bzfsikor/code/Sqra.jl/src/permadict.jl:41\n"
     ]
    },
    {
     "output_type": "stream",
     "name": "stdout",
     "text": [
      "Committor residual mean: 1.149081064713736e-6\n",
      " 11.442512 seconds (19.03 M allocations: 2.979 GiB, 27.51% gc time)\n",
      "l = 14\n"
     ]
    },
    {
     "output_type": "stream",
     "name": "stderr",
     "text": [
      "┌ Info: reading cache/sim_18164615234929798187.jld2\n",
      "└ @ Sqra /home/htc/bzfsikor/code/Sqra.jl/src/permadict.jl:41\n"
     ]
    },
    {
     "output_type": "stream",
     "name": "stdout",
     "text": [
      "Committor residual mean: 1.2901473471955452e-6\n",
      " 14.549252 seconds (21.29 M allocations: 3.136 GiB, 21.41% gc time)\n",
      "l = 15\n"
     ]
    },
    {
     "output_type": "stream",
     "name": "stderr",
     "text": [
      "┌ Info: reading cache/sim_18164615234929798187.jld2\n",
      "└ @ Sqra /home/htc/bzfsikor/code/Sqra.jl/src/permadict.jl:41\n"
     ]
    },
    {
     "output_type": "stream",
     "name": "stdout",
     "text": [
      "Committor residual mean: 1.2240862862780583e-5\n",
      " 32.328854 seconds (23.89 M allocations: 3.308 GiB, 12.80% gc time)\n",
      "l = 16\n"
     ]
    },
    {
     "output_type": "stream",
     "name": "stderr",
     "text": [
      "┌ Info: reading cache/sim_18164615234929798187.jld2\n",
      "└ @ Sqra /home/htc/bzfsikor/code/Sqra.jl/src/permadict.jl:41\n"
     ]
    },
    {
     "output_type": "stream",
     "name": "stdout",
     "text": [
      "Committor residual mean: 2.6270509708747354e-5\n",
      " 42.848189 seconds (27.33 M allocations: 3.535 GiB, 13.38% gc time)\n",
      "l = 17\n"
     ]
    },
    {
     "output_type": "stream",
     "name": "stderr",
     "text": [
      "┌ Info: reading cache/sim_18164615234929798187.jld2\n",
      "└ @ Sqra /home/htc/bzfsikor/code/Sqra.jl/src/permadict.jl:41\n"
     ]
    },
    {
     "output_type": "stream",
     "name": "stdout",
     "text": [
      "Committor residual mean: 2.128265162315798e-5\n",
      " 54.693669 seconds (31.32 M allocations: 3.813 GiB, 12.14% gc time)\n",
      "l = 18\n"
     ]
    },
    {
     "output_type": "stream",
     "name": "stderr",
     "text": [
      "┌ Info: reading cache/sim_18164615234929798187.jld2\n",
      "└ @ Sqra /home/htc/bzfsikor/code/Sqra.jl/src/permadict.jl:41\n"
     ]
    },
    {
     "output_type": "stream",
     "name": "stdout",
     "text": [
      "Committor residual mean: 2.2453983863434306e-5\n",
      " 70.700530 seconds (35.60 M allocations: 4.106 GiB, 13.74% gc time)\n",
      "l = 19\n"
     ]
    },
    {
     "output_type": "stream",
     "name": "stderr",
     "text": [
      "┌ Info: reading cache/sim_18164615234929798187.jld2\n",
      "└ @ Sqra /home/htc/bzfsikor/code/Sqra.jl/src/permadict.jl:41\n"
     ]
    },
    {
     "output_type": "stream",
     "name": "stdout",
     "text": [
      "Committor residual mean: 0.00017397410060465639\n",
      " 89.016217 seconds (39.95 M allocations: 4.388 GiB, 15.28% gc time)\n",
      "l = 20\n"
     ]
    },
    {
     "output_type": "stream",
     "name": "stderr",
     "text": [
      "┌ Info: reading cache/sim_18164615234929798187.jld2\n",
      "└ @ Sqra /home/htc/bzfsikor/code/Sqra.jl/src/permadict.jl:41\n"
     ]
    },
    {
     "output_type": "stream",
     "name": "stdout",
     "text": [
      "Committor residual mean: 0.00012056016293239503\n",
      "110.602552 seconds (45.16 M allocations: 4.732 GiB, 14.49% gc time)\n",
      "l = 21\n"
     ]
    },
    {
     "output_type": "stream",
     "name": "stderr",
     "text": [
      "┌ Info: reading cache/sim_18164615234929798187.jld2\n",
      "└ @ Sqra /home/htc/bzfsikor/code/Sqra.jl/src/permadict.jl:41\n"
     ]
    },
    {
     "output_type": "stream",
     "name": "stdout",
     "text": [
      "Committor residual mean: 4.92054876386433e-5\n",
      "137.534892 seconds (51.24 M allocations: 5.135 GiB, 12.84% gc time)\n",
      "l = 22\n"
     ]
    },
    {
     "output_type": "stream",
     "name": "stderr",
     "text": [
      "┌ Info: reading cache/sim_18164615234929798187.jld2\n",
      "└ @ Sqra /home/htc/bzfsikor/code/Sqra.jl/src/permadict.jl:41\n"
     ]
    },
    {
     "output_type": "stream",
     "name": "stdout",
     "text": [
      "Committor residual mean: 6.521989698820901e-5\n",
      "174.446052 seconds (57.79 M allocations: 5.633 GiB, 13.65% gc time)\n",
      "l = 23\n"
     ]
    },
    {
     "output_type": "stream",
     "name": "stderr",
     "text": [
      "┌ Info: reading cache/sim_18164615234929798187.jld2\n",
      "└ @ Sqra /home/htc/bzfsikor/code/Sqra.jl/src/permadict.jl:41\n"
     ]
    },
    {
     "output_type": "stream",
     "name": "stdout",
     "text": [
      "Committor residual mean: 0.00014479417362136483\n",
      "213.165753 seconds (64.52 M allocations: 6.043 GiB, 12.97% gc time)\n",
      "l = 24\n"
     ]
    },
    {
     "output_type": "stream",
     "name": "stderr",
     "text": [
      "┌ Info: reading cache/sim_18164615234929798187.jld2\n",
      "└ @ Sqra /home/htc/bzfsikor/code/Sqra.jl/src/permadict.jl:41\n"
     ]
    },
    {
     "output_type": "stream",
     "name": "stdout",
     "text": [
      "Committor residual mean: 0.0001092261756737026\n",
      "268.680966 seconds (71.99 M allocations: 6.532 GiB, 14.52% gc time)\n",
      "l = 25\n"
     ]
    },
    {
     "output_type": "stream",
     "name": "stderr",
     "text": [
      "┌ Info: reading cache/sim_18164615234929798187.jld2\n",
      "└ @ Sqra /home/htc/bzfsikor/code/Sqra.jl/src/permadict.jl:41\n"
     ]
    },
    {
     "output_type": "stream",
     "name": "stdout",
     "text": [
      "Committor residual mean: 0.0002103057669451602\n",
      "330.262143 seconds (80.12 M allocations: 7.126 GiB, 14.78% gc time)\n"
     ]
    }
   ],
   "metadata": {}
  },
  {
   "cell_type": "code",
   "execution_count": 14,
   "source": [
    "plot()\n",
    "for i in 2:length(r)\n",
    "    errs = Sqra.error.(r[[i]], r[1:i-1])\n",
    "    plot!(levels[1:i-1], errs)\n",
    "end\n",
    "yaxis!(:log)"
   ],
   "outputs": [],
   "metadata": {}
  },
  {
   "cell_type": "code",
   "execution_count": 5,
   "source": [
    "Base.summarysize(r[end]) / 1024^2"
   ],
   "outputs": [
    {
     "output_type": "execute_result",
     "data": {
      "text/plain": [
       "75.52790451049805"
      ]
     },
     "metadata": {},
     "execution_count": 5
    }
   ],
   "metadata": {}
  },
  {
   "cell_type": "code",
   "execution_count": 6,
   "source": [
    "Base.summarysize(r[end].sim)  / 1024^2\n"
   ],
   "outputs": [
    {
     "output_type": "execute_result",
     "data": {
      "text/plain": [
       "53.40605163574219"
      ]
     },
     "metadata": {},
     "execution_count": 6
    }
   ],
   "metadata": {}
  },
  {
   "cell_type": "code",
   "execution_count": 7,
   "source": [
    "sizeof(r[end].Q) / 1024^2"
   ],
   "outputs": [
    {
     "output_type": "execute_result",
     "data": {
      "text/plain": [
       "3.814697265625e-5"
      ]
     },
     "metadata": {},
     "execution_count": 7
    }
   ],
   "metadata": {}
  },
  {
   "cell_type": "code",
   "execution_count": null,
   "source": [],
   "outputs": [],
   "metadata": {}
  }
 ],
 "metadata": {
  "orig_nbformat": 4,
  "kernelspec": {
   "name": "julia-1.6",
   "display_name": "Julia 1.6.1",
   "language": "julia"
  },
  "language_info": {
   "file_extension": ".jl",
   "name": "julia",
   "mimetype": "application/julia",
   "version": "1.6.1"
  }
 },
 "nbformat": 4,
 "nbformat_minor": 2
}