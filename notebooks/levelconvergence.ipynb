{
 "cells": [
  {
   "cell_type": "code",
   "execution_count": 14,
   "source": [
    "using Revise, Sqra, Plots\n",
    "Sqra.CACHE!()"
   ],
   "outputs": [
    {
     "output_type": "execute_result",
     "data": {
      "text/plain": [
       "(true, true)"
      ]
     },
     "metadata": {},
     "execution_count": 14
    }
   ],
   "metadata": {}
  },
  {
   "cell_type": "code",
   "execution_count": 2,
   "source": [
    "sim = Simulation(nsteps=10_000_000)\n",
    "run(sim)"
   ],
   "outputs": [
    {
     "output_type": "stream",
     "name": "stderr",
     "text": [
      "┌ Info: reading cache/sim_18164615234929798187.jld2\n",
      "└ @ Sqra /home/htc/bzfsikor/code/Sqra.jl/src/permadict.jl:41\n"
     ]
    },
    {
     "output_type": "execute_result",
     "data": {
      "text/plain": [
       "Simulation\n",
       "  x0: Array{Float64}((6,)) [0.19920158482463968, 0.13789462153196408, -0.1709575705426315, 0.0784533378749835, 0.06778720715969005, -0.2112155752270007]\n",
       "  epsilon: Int64 1\n",
       "  r0: Float64 0.3333333333333333\n",
       "  harm: Int64 1\n",
       "  sigma: Float64 0.5\n",
       "  dt: Float64 0.001\n",
       "  nsteps: Int64 10000000\n",
       "  maxdelta: Float64 0.1\n",
       "  seed: Int64 1\n",
       "  x: Array{Float64}((6, 10000000)) [0.20334321106184075 0.23323639105016725 … 0.061857877544676435 0.11390633113939738; 0.14416632237604463 0.10459139091170935 … -0.04035353858853223 -0.042598605124876586; … ; 0.053788009335393364 0.06679886031379578 … -0.022763912382464665 -0.010767213631356147; -0.20596632763897224 -0.19111568330233175 … 0.36841990153469534 0.3654551135298005]\n",
       "  u: Array{Float64}((10000000,)) [-2.7899344658297394, -2.0767964628456994, -1.8682213972516182, -2.0773918396090956, -2.3579304739127185, -2.8050196206903886, -2.506948656244679, -2.465898421806273, -2.587451882125607, -2.5008280857245433  …  -2.5049017711498136, -2.536318710962578, -2.3299742966066748, -2.461021350047426, -2.4895974903030953, -2.3875413964454473, -2.418936616699478, -2.3426741801958775, -2.2717869752069344, -2.1068865381093924]\n"
      ]
     },
     "metadata": {},
     "execution_count": 2
    }
   ],
   "metadata": {}
  },
  {
   "cell_type": "code",
   "execution_count": 19,
   "source": [
    "levels = 2:20\n",
    "\n",
    "r = Vector(undef, length(levels))\n",
    "\n",
    "for (i,l) in enumerate(levels)\n",
    "\t@show l\n",
    "\ts = Setup(sim=sim, level=l)\n",
    "\tr[i]= Experiment(s)\n",
    "end"
   ],
   "outputs": [
    {
     "output_type": "stream",
     "name": "stdout",
     "text": [
      "l = 2\n"
     ]
    },
    {
     "output_type": "stream",
     "name": "stderr",
     "text": [
      "┌ Info: reading cache/sim_18164615234929798187.jld2\n",
      "└ @ Sqra /home/htc/bzfsikor/code/Sqra.jl/src/permadict.jl:41\n"
     ]
    },
    {
     "output_type": "stream",
     "name": "stdout",
     "text": [
      "  1.900170 seconds (706 allocations: 534.126 MiB, 57.00% gc time)\n",
      " 12.676194 seconds (20.00 M allocations: 2.692 GiB, 1.65% gc time)\n",
      "  0.079252 seconds (1.86 k allocations: 76.451 MiB)\n",
      "  0.000272 seconds (1000 allocations: 55.953 KiB)\n",
      "Committor residual mean: 0.0\n",
      "  0.000125 seconds (114 allocations: 57.344 KiB)\n",
      "l = 3\n"
     ]
    },
    {
     "output_type": "stream",
     "name": "stderr",
     "text": [
      "┌ Info: reading cache/sim_18164615234929798187.jld2\n",
      "└ @ Sqra /home/htc/bzfsikor/code/Sqra.jl/src/permadict.jl:41\n"
     ]
    }
   ],
   "metadata": {}
  },
  {
   "cell_type": "code",
   "execution_count": 18,
   "source": [
    "errs = Sqra.error.(r[[end]], r[1:end-1])\n",
    "\n",
    "plot(levels[1:end-1], errs)\n",
    "yaxis!(:log)"
   ],
   "outputs": [
    {
     "output_type": "execute_result",
     "data": {
      "image/svg+xml": "<?xml version=\"1.0\" encoding=\"utf-8\"?>\n<svg xmlns=\"http://www.w3.org/2000/svg\" xmlns:xlink=\"http://www.w3.org/1999/xlink\" width=\"600\" height=\"400\" viewBox=\"0 0 2400 1600\">\n<defs>\n  <clipPath id=\"clip750\">\n    <rect x=\"0\" y=\"0\" width=\"2400\" height=\"1600\"/>\n  </clipPath>\n</defs>\n<path clip-path=\"url(#clip750)\" d=\"\nM0 1600 L2400 1600 L2400 0 L0 0  Z\n  \" fill=\"#ffffff\" fill-rule=\"evenodd\" fill-opacity=\"1\"/>\n<defs>\n  <clipPath id=\"clip751\">\n    <rect x=\"480\" y=\"0\" width=\"1681\" height=\"1600\"/>\n  </clipPath>\n</defs>\n<path clip-path=\"url(#clip750)\" d=\"\nM188.104 1486.45 L2352.76 1486.45 L2352.76 47.2441 L188.104 47.2441  Z\n  \" fill=\"#ffffff\" fill-rule=\"evenodd\" fill-opacity=\"1\"/>\n<defs>\n  <clipPath id=\"clip752\">\n    <rect x=\"188\" y=\"47\" width=\"2166\" height=\"1440\"/>\n  </clipPath>\n</defs>\n<polyline clip-path=\"url(#clip752)\" style=\"stroke:#000000; stroke-linecap:butt; stroke-linejoin:round; stroke-width:2; stroke-opacity:0.1; fill:none\" points=\"\n  249.368,1486.45 249.368,47.2441 \n  \"/>\n<polyline clip-path=\"url(#clip752)\" style=\"stroke:#000000; stroke-linecap:butt; stroke-linejoin:round; stroke-width:2; stroke-opacity:0.1; fill:none\" points=\"\n  832.832,1486.45 832.832,47.2441 \n  \"/>\n<polyline clip-path=\"url(#clip752)\" style=\"stroke:#000000; stroke-linecap:butt; stroke-linejoin:round; stroke-width:2; stroke-opacity:0.1; fill:none\" points=\"\n  1416.3,1486.45 1416.3,47.2441 \n  \"/>\n<polyline clip-path=\"url(#clip752)\" style=\"stroke:#000000; stroke-linecap:butt; stroke-linejoin:round; stroke-width:2; stroke-opacity:0.1; fill:none\" points=\"\n  1999.76,1486.45 1999.76,47.2441 \n  \"/>\n<polyline clip-path=\"url(#clip750)\" style=\"stroke:#000000; stroke-linecap:butt; stroke-linejoin:round; stroke-width:4; stroke-opacity:1; fill:none\" points=\"\n  188.104,1486.45 2352.76,1486.45 \n  \"/>\n<polyline clip-path=\"url(#clip750)\" style=\"stroke:#000000; stroke-linecap:butt; stroke-linejoin:round; stroke-width:4; stroke-opacity:1; fill:none\" points=\"\n  249.368,1486.45 249.368,1467.55 \n  \"/>\n<polyline clip-path=\"url(#clip750)\" style=\"stroke:#000000; stroke-linecap:butt; stroke-linejoin:round; stroke-width:4; stroke-opacity:1; fill:none\" points=\"\n  832.832,1486.45 832.832,1467.55 \n  \"/>\n<polyline clip-path=\"url(#clip750)\" style=\"stroke:#000000; stroke-linecap:butt; stroke-linejoin:round; stroke-width:4; stroke-opacity:1; fill:none\" points=\"\n  1416.3,1486.45 1416.3,1467.55 \n  \"/>\n<polyline clip-path=\"url(#clip750)\" style=\"stroke:#000000; stroke-linecap:butt; stroke-linejoin:round; stroke-width:4; stroke-opacity:1; fill:none\" points=\"\n  1999.76,1486.45 1999.76,1467.55 \n  \"/>\n<path clip-path=\"url(#clip750)\" d=\"M244.021 1543.18 L260.34 1543.18 L260.34 1547.12 L238.396 1547.12 L238.396 1543.18 Q241.058 1540.43 245.641 1535.8 Q250.247 1531.15 251.428 1529.81 Q253.673 1527.28 254.553 1525.55 Q255.456 1523.79 255.456 1522.1 Q255.456 1519.34 253.511 1517.61 Q251.59 1515.87 248.488 1515.87 Q246.289 1515.87 243.835 1516.63 Q241.405 1517.4 238.627 1518.95 L238.627 1514.23 Q241.451 1513.09 243.905 1512.51 Q246.359 1511.93 248.396 1511.93 Q253.766 1511.93 256.96 1514.62 Q260.155 1517.31 260.155 1521.8 Q260.155 1523.93 259.345 1525.85 Q258.558 1527.74 256.451 1530.34 Q255.872 1531.01 252.771 1534.23 Q249.669 1537.42 244.021 1543.18 Z\" fill=\"#000000\" fill-rule=\"evenodd\" fill-opacity=\"1\" /><path clip-path=\"url(#clip750)\" d=\"M835.841 1516.63 L824.036 1535.08 L835.841 1535.08 L835.841 1516.63 M834.614 1512.56 L840.494 1512.56 L840.494 1535.08 L845.424 1535.08 L845.424 1538.97 L840.494 1538.97 L840.494 1547.12 L835.841 1547.12 L835.841 1538.97 L820.239 1538.97 L820.239 1534.46 L834.614 1512.56 Z\" fill=\"#000000\" fill-rule=\"evenodd\" fill-opacity=\"1\" /><path clip-path=\"url(#clip750)\" d=\"M1416.7 1527.98 Q1413.55 1527.98 1411.7 1530.13 Q1409.87 1532.28 1409.87 1536.03 Q1409.87 1539.76 1411.7 1541.93 Q1413.55 1544.09 1416.7 1544.09 Q1419.85 1544.09 1421.68 1541.93 Q1423.53 1539.76 1423.53 1536.03 Q1423.53 1532.28 1421.68 1530.13 Q1419.85 1527.98 1416.7 1527.98 M1425.98 1513.32 L1425.98 1517.58 Q1424.22 1516.75 1422.42 1516.31 Q1420.64 1515.87 1418.88 1515.87 Q1414.25 1515.87 1411.79 1519 Q1409.36 1522.12 1409.02 1528.44 Q1410.38 1526.43 1412.44 1525.36 Q1414.5 1524.27 1416.98 1524.27 Q1422.19 1524.27 1425.2 1527.44 Q1428.23 1530.59 1428.23 1536.03 Q1428.23 1541.36 1425.08 1544.57 Q1421.93 1547.79 1416.7 1547.79 Q1410.71 1547.79 1407.53 1543.21 Q1404.36 1538.6 1404.36 1529.87 Q1404.36 1521.68 1408.25 1516.82 Q1412.14 1511.93 1418.69 1511.93 Q1420.45 1511.93 1422.23 1512.28 Q1424.04 1512.63 1425.98 1513.32 Z\" fill=\"#000000\" fill-rule=\"evenodd\" fill-opacity=\"1\" /><path clip-path=\"url(#clip750)\" d=\"M1999.76 1530.71 Q1996.43 1530.71 1994.51 1532.49 Q1992.61 1534.27 1992.61 1537.4 Q1992.61 1540.52 1994.51 1542.31 Q1996.43 1544.09 1999.76 1544.09 Q2003.09 1544.09 2005.01 1542.31 Q2006.94 1540.5 2006.94 1537.4 Q2006.94 1534.27 2005.01 1532.49 Q2003.12 1530.71 1999.76 1530.71 M1995.08 1528.72 Q1992.07 1527.98 1990.39 1525.92 Q1988.72 1523.86 1988.72 1520.89 Q1988.72 1516.75 1991.66 1514.34 Q1994.62 1511.93 1999.76 1511.93 Q2004.92 1511.93 2007.86 1514.34 Q2010.8 1516.75 2010.8 1520.89 Q2010.8 1523.86 2009.11 1525.92 Q2007.45 1527.98 2004.46 1528.72 Q2007.84 1529.5 2009.71 1531.8 Q2011.61 1534.09 2011.61 1537.4 Q2011.61 1542.42 2008.53 1545.11 Q2005.48 1547.79 1999.76 1547.79 Q1994.04 1547.79 1990.96 1545.11 Q1987.91 1542.42 1987.91 1537.4 Q1987.91 1534.09 1989.81 1531.8 Q1991.7 1529.5 1995.08 1528.72 M1993.37 1521.33 Q1993.37 1524.02 1995.04 1525.52 Q1996.73 1527.03 1999.76 1527.03 Q2002.77 1527.03 2004.46 1525.52 Q2006.17 1524.02 2006.17 1521.33 Q2006.17 1518.65 2004.46 1517.14 Q2002.77 1515.64 1999.76 1515.64 Q1996.73 1515.64 1995.04 1517.14 Q1993.37 1518.65 1993.37 1521.33 Z\" fill=\"#000000\" fill-rule=\"evenodd\" fill-opacity=\"1\" /><polyline clip-path=\"url(#clip752)\" style=\"stroke:#000000; stroke-linecap:butt; stroke-linejoin:round; stroke-width:2; stroke-opacity:0.1; fill:none\" points=\"\n  188.104,967.44 2352.76,967.44 \n  \"/>\n<polyline clip-path=\"url(#clip752)\" style=\"stroke:#000000; stroke-linecap:butt; stroke-linejoin:round; stroke-width:2; stroke-opacity:0.1; fill:none\" points=\"\n  188.104,363.234 2352.76,363.234 \n  \"/>\n<polyline clip-path=\"url(#clip750)\" style=\"stroke:#000000; stroke-linecap:butt; stroke-linejoin:round; stroke-width:4; stroke-opacity:1; fill:none\" points=\"\n  188.104,1486.45 188.104,47.2441 \n  \"/>\n<polyline clip-path=\"url(#clip750)\" style=\"stroke:#000000; stroke-linecap:butt; stroke-linejoin:round; stroke-width:4; stroke-opacity:1; fill:none\" points=\"\n  188.104,967.44 207.002,967.44 \n  \"/>\n<polyline clip-path=\"url(#clip750)\" style=\"stroke:#000000; stroke-linecap:butt; stroke-linejoin:round; stroke-width:4; stroke-opacity:1; fill:none\" points=\"\n  188.104,363.234 207.002,363.234 \n  \"/>\n<path clip-path=\"url(#clip750)\" d=\"M51.9643 987.232 L59.6032 987.232 L59.6032 960.867 L51.2931 962.533 L51.2931 958.274 L59.5569 956.607 L64.2328 956.607 L64.2328 987.232 L71.8716 987.232 L71.8716 991.167 L51.9643 991.167 L51.9643 987.232 Z\" fill=\"#000000\" fill-rule=\"evenodd\" fill-opacity=\"1\" /><path clip-path=\"url(#clip750)\" d=\"M91.316 959.686 Q87.7049 959.686 85.8762 963.251 Q84.0707 966.793 84.0707 973.922 Q84.0707 981.029 85.8762 984.593 Q87.7049 988.135 91.316 988.135 Q94.9502 988.135 96.7558 984.593 Q98.5845 981.029 98.5845 973.922 Q98.5845 966.793 96.7558 963.251 Q94.9502 959.686 91.316 959.686 M91.316 955.982 Q97.1261 955.982 100.182 960.589 Q103.26 965.172 103.26 973.922 Q103.26 982.649 100.182 987.255 Q97.1261 991.839 91.316 991.839 Q85.5058 991.839 82.4271 987.255 Q79.3716 982.649 79.3716 973.922 Q79.3716 965.172 82.4271 960.589 Q85.5058 955.982 91.316 955.982 Z\" fill=\"#000000\" fill-rule=\"evenodd\" fill-opacity=\"1\" /><path clip-path=\"url(#clip750)\" d=\"M103.26 950.084 L127.372 950.084 L127.372 953.281 L103.26 953.281 L103.26 950.084 Z\" fill=\"#000000\" fill-rule=\"evenodd\" fill-opacity=\"1\" /><path clip-path=\"url(#clip750)\" d=\"M138.845 960.56 L152.104 960.56 L152.104 963.757 L134.274 963.757 L134.274 960.56 Q136.437 958.322 140.161 954.56 Q143.904 950.78 144.863 949.689 Q146.688 947.639 147.402 946.228 Q148.136 944.799 148.136 943.426 Q148.136 941.188 146.556 939.777 Q144.995 938.367 142.475 938.367 Q140.688 938.367 138.694 938.987 Q136.719 939.608 134.462 940.868 L134.462 937.031 Q136.757 936.11 138.751 935.639 Q140.744 935.169 142.399 935.169 Q146.763 935.169 149.358 937.351 Q151.954 939.533 151.954 943.181 Q151.954 944.912 151.295 946.473 Q150.656 948.015 148.944 950.121 Q148.474 950.667 145.954 953.281 Q143.434 955.877 138.845 960.56 Z\" fill=\"#000000\" fill-rule=\"evenodd\" fill-opacity=\"1\" /><path clip-path=\"url(#clip750)\" d=\"M51.6634 383.026 L59.3023 383.026 L59.3023 356.661 L50.9921 358.327 L50.9921 354.068 L59.256 352.402 L63.9319 352.402 L63.9319 383.026 L71.5707 383.026 L71.5707 386.962 L51.6634 386.962 L51.6634 383.026 Z\" fill=\"#000000\" fill-rule=\"evenodd\" fill-opacity=\"1\" /><path clip-path=\"url(#clip750)\" d=\"M91.0151 355.48 Q87.404 355.48 85.5753 359.045 Q83.7697 362.587 83.7697 369.716 Q83.7697 376.823 85.5753 380.387 Q87.404 383.929 91.0151 383.929 Q94.6493 383.929 96.4548 380.387 Q98.2835 376.823 98.2835 369.716 Q98.2835 362.587 96.4548 359.045 Q94.6493 355.48 91.0151 355.48 M91.0151 351.777 Q96.8252 351.777 99.8808 356.383 Q102.959 360.966 102.959 369.716 Q102.959 378.443 99.8808 383.049 Q96.8252 387.633 91.0151 387.633 Q85.2049 387.633 82.1262 383.049 Q79.0707 378.443 79.0707 369.716 Q79.0707 360.966 82.1262 356.383 Q85.2049 351.777 91.0151 351.777 Z\" fill=\"#000000\" fill-rule=\"evenodd\" fill-opacity=\"1\" /><path clip-path=\"url(#clip750)\" d=\"M102.959 345.878 L127.071 345.878 L127.071 349.075 L102.959 349.075 L102.959 345.878 Z\" fill=\"#000000\" fill-rule=\"evenodd\" fill-opacity=\"1\" /><path clip-path=\"url(#clip750)\" d=\"M135.929 356.354 L142.136 356.354 L142.136 334.932 L135.384 336.286 L135.384 332.825 L142.098 331.471 L145.898 331.471 L145.898 356.354 L152.104 356.354 L152.104 359.551 L135.929 359.551 L135.929 356.354 Z\" fill=\"#000000\" fill-rule=\"evenodd\" fill-opacity=\"1\" /><polyline clip-path=\"url(#clip752)\" style=\"stroke:#009af9; stroke-linecap:butt; stroke-linejoin:round; stroke-width:4; stroke-opacity:1; fill:none\" points=\"\n  249.368,87.9763 541.1,88.0368 832.832,311.667 1124.56,619.059 1416.3,827.029 1708.03,1126.64 1999.76,1445.72 2291.49,1338.13 \n  \"/>\n<path clip-path=\"url(#clip750)\" d=\"\nM1987.65 198.898 L2280.6 198.898 L2280.6 95.2176 L1987.65 95.2176  Z\n  \" fill=\"#ffffff\" fill-rule=\"evenodd\" fill-opacity=\"1\"/>\n<polyline clip-path=\"url(#clip750)\" style=\"stroke:#000000; stroke-linecap:butt; stroke-linejoin:round; stroke-width:4; stroke-opacity:1; fill:none\" points=\"\n  1987.65,198.898 2280.6,198.898 2280.6,95.2176 1987.65,95.2176 1987.65,198.898 \n  \"/>\n<polyline clip-path=\"url(#clip750)\" style=\"stroke:#009af9; stroke-linecap:butt; stroke-linejoin:round; stroke-width:4; stroke-opacity:1; fill:none\" points=\"\n  2011.71,147.058 2156.02,147.058 \n  \"/>\n<path clip-path=\"url(#clip750)\" d=\"M2193.91 166.745 Q2192.1 171.375 2190.39 172.787 Q2188.68 174.199 2185.81 174.199 L2182.41 174.199 L2182.41 170.634 L2184.91 170.634 Q2186.66 170.634 2187.64 169.8 Q2188.61 168.967 2189.79 165.865 L2190.55 163.921 L2180.07 138.412 L2184.58 138.412 L2192.68 158.689 L2200.78 138.412 L2205.3 138.412 L2193.91 166.745 Z\" fill=\"#000000\" fill-rule=\"evenodd\" fill-opacity=\"1\" /><path clip-path=\"url(#clip750)\" d=\"M2212.59 160.402 L2220.23 160.402 L2220.23 134.037 L2211.92 135.703 L2211.92 131.444 L2220.18 129.778 L2224.86 129.778 L2224.86 160.402 L2232.5 160.402 L2232.5 164.338 L2212.59 164.338 L2212.59 160.402 Z\" fill=\"#000000\" fill-rule=\"evenodd\" fill-opacity=\"1\" /></svg>\n"
     },
     "metadata": {},
     "execution_count": 18
    }
   ],
   "metadata": {}
  },
  {
   "cell_type": "code",
   "execution_count": null,
   "source": [],
   "outputs": [],
   "metadata": {}
  }
 ],
 "metadata": {
  "orig_nbformat": 4,
  "kernelspec": {
   "name": "julia-1.6",
   "display_name": "Julia 1.6.1",
   "language": "julia"
  },
  "language_info": {
   "file_extension": ".jl",
   "name": "julia",
   "mimetype": "application/julia",
   "version": "1.6.1"
  }
 },
 "nbformat": 4,
 "nbformat_minor": 2
}