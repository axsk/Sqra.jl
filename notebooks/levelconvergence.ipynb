{
 "cells": [
  {
   "cell_type": "code",
   "execution_count": 3,
   "source": [
    "using Revise, Sqra, Plots\n",
    "Sqra.CACHE!()"
   ],
   "outputs": [
    {
     "output_type": "execute_result",
     "data": {
      "text/plain": [
       "(true, true)"
      ]
     },
     "metadata": {},
     "execution_count": 3
    }
   ],
   "metadata": {}
  },
  {
   "cell_type": "code",
   "execution_count": 4,
   "source": [
    "#s0im = Simulation(x0 = Float32.(Sqra.x0gen), nsteps=1_000_000)\n",
    "sim = Simulation(nsteps=50_000_000)\n",
    "run(sim)"
   ],
   "outputs": [
    {
     "output_type": "stream",
     "name": "stderr",
     "text": [
      "┌ Info: reading cache/sim_3953794533859111492.jld2\n",
      "└ @ Sqra /home/htc/bzfsikor/code/Sqra.jl/src/permadict.jl:45\n"
     ]
    },
    {
     "output_type": "execute_result",
     "data": {
      "text/plain": [
       "Simulation\n",
       "  x0: Array{Float64}((6,)) [0.19920158482463968, 0.13789462153196408, -0.1709575705426315, 0.0784533378749835, 0.06778720715969005, -0.2112155752270007]\n",
       "  epsilon: Int64 1\n",
       "  r0: Float64 0.3333333333333333\n",
       "  harm: Int64 1\n",
       "  sigma: Float64 0.5\n",
       "  dt: Float64 0.001\n",
       "  nsteps: Int64 50000000\n",
       "  maxdelta: Float64 0.1\n",
       "  seed: Int64 1\n",
       "  x: Array{Float64}((6, 50000000)) [0.20334321106184075 0.23323639105016725 … -0.06409212622819532 -0.03339064176686461; 0.14416632237604463 0.10459139091170935 … 0.034785662960763714 0.039558251554540964; … ; 0.053788009335393364 0.06679886031379578 … 0.28020717447428384 0.2525932059487459; -0.20596632763897224 -0.19111568330233175 … 0.21362595577517124 0.19742335061525623]\n",
       "  u: Array{Float64}((50000000,)) [-2.7899344658297394, -2.0767964628456994, -1.8682213972516182, -2.0773918396090956, -2.3579304739127185, -2.8050196206903886, -2.506948656244679, -2.465898421806273, -2.587451882125607, -2.5008280857245433  …  -2.6611033301526206, -2.616799974683712, -2.7060225491130603, -2.3948597361317647, -2.0023357771744656, -2.447831293010921, -2.727996803934062, -2.7356291721517008, -2.4920840484187123, -0.8399084172718208]\n"
      ]
     },
     "metadata": {},
     "execution_count": 4
    }
   ],
   "metadata": {}
  },
  {
   "cell_type": "code",
   "execution_count": 5,
   "source": [
    "levels = 2:20\n",
    "\n",
    "r = Vector(undef, length(levels))\n",
    "\n",
    "for (i,l) in enumerate(levels)\n",
    "\t@show l\n",
    "\ts = Setup(sim=sim, level=l)\n",
    "\t@time r[i] = Experiment(s)\n",
    "end"
   ],
   "outputs": [
    {
     "output_type": "stream",
     "name": "stdout",
     "text": [
      "l = 2\n"
     ]
    },
    {
     "output_type": "stream",
     "name": "stderr",
     "text": [
      "┌ Info: reading cache/exp_12122980500678892422.jld2\n",
      "└ @ Sqra /home/htc/bzfsikor/code/Sqra.jl/src/permadict.jl:45\n"
     ]
    },
    {
     "output_type": "stream",
     "name": "stdout",
     "text": [
      "  8.235893 seconds (3.76 M allocations: 3.016 GiB, 13.06% gc time, 32.30% compilation time)\n",
      "l = 3\n"
     ]
    },
    {
     "output_type": "stream",
     "name": "stderr",
     "text": [
      "┌ Info: reading cache/exp_18093337545382304266.jld2\n",
      "└ @ Sqra /home/htc/bzfsikor/code/Sqra.jl/src/permadict.jl:45\n"
     ]
    },
    {
     "output_type": "stream",
     "name": "stdout",
     "text": [
      "  6.765218 seconds (15.19 k allocations: 2.795 GiB, 11.18% gc time)\n",
      "l = 4\n"
     ]
    },
    {
     "output_type": "stream",
     "name": "stderr",
     "text": [
      "┌ Info: reading cache/exp_10367533014337300985.jld2\n",
      "└ @ Sqra /home/htc/bzfsikor/code/Sqra.jl/src/permadict.jl:45\n"
     ]
    },
    {
     "output_type": "stream",
     "name": "stdout",
     "text": [
      "  6.271012 seconds (44.43 k allocations: 2.796 GiB, 12.21% gc time)\n",
      "l = 5\n"
     ]
    },
    {
     "output_type": "stream",
     "name": "stderr",
     "text": [
      "┌ Info: reading cache/exp_161360592997481716.jld2\n",
      "└ @ Sqra /home/htc/bzfsikor/code/Sqra.jl/src/permadict.jl:45\n"
     ]
    },
    {
     "output_type": "stream",
     "name": "stdout",
     "text": [
      "  6.001156 seconds (99.91 k allocations: 2.799 GiB, 12.56% gc time)\n",
      "l = 6\n"
     ]
    },
    {
     "output_type": "stream",
     "name": "stderr",
     "text": [
      "┌ Info: reading cache/exp_16171833479708740323.jld2\n",
      "└ @ Sqra /home/htc/bzfsikor/code/Sqra.jl/src/permadict.jl:45\n"
     ]
    },
    {
     "output_type": "stream",
     "name": "stdout",
     "text": [
      "  5.605875 seconds (191.82 k allocations: 2.803 GiB, 13.50% gc time)\n",
      "l = 7\n"
     ]
    },
    {
     "output_type": "stream",
     "name": "stderr",
     "text": [
      "┌ Info: reading cache/exp_10512412211703961253.jld2\n",
      "└ @ Sqra /home/htc/bzfsikor/code/Sqra.jl/src/permadict.jl:45\n"
     ]
    },
    {
     "output_type": "stream",
     "name": "stdout",
     "text": [
      "  5.656845 seconds (340.44 k allocations: 2.811 GiB, 13.51% gc time)\n",
      "l = 8\n"
     ]
    },
    {
     "output_type": "stream",
     "name": "stderr",
     "text": [
      "┌ Info: reading cache/exp_7976295760977473100.jld2\n",
      "└ @ Sqra /home/htc/bzfsikor/code/Sqra.jl/src/permadict.jl:45\n"
     ]
    },
    {
     "output_type": "stream",
     "name": "stdout",
     "text": [
      "  5.837590 seconds (607.23 k allocations: 2.822 GiB, 13.27% gc time)\n",
      "l = 9\n"
     ]
    },
    {
     "output_type": "stream",
     "name": "stderr",
     "text": [
      "┌ Info: reading cache/exp_12840067835208579594.jld2\n",
      "└ @ Sqra /home/htc/bzfsikor/code/Sqra.jl/src/permadict.jl:45\n"
     ]
    },
    {
     "output_type": "stream",
     "name": "stdout",
     "text": [
      "  5.780339 seconds (953.24 k allocations: 2.841 GiB, 13.67% gc time)\n",
      "l = 10\n"
     ]
    },
    {
     "output_type": "stream",
     "name": "stderr",
     "text": [
      "┌ Info: reading cache/exp_11527471908412743047.jld2\n",
      "└ @ Sqra /home/htc/bzfsikor/code/Sqra.jl/src/permadict.jl:45\n"
     ]
    },
    {
     "output_type": "stream",
     "name": "stdout",
     "text": [
      "  6.186673 seconds (1.31 M allocations: 2.856 GiB, 13.30% gc time)\n",
      "l = 11\n"
     ]
    },
    {
     "output_type": "stream",
     "name": "stderr",
     "text": [
      "┌ Info: reading cache/exp_7378281742231432572.jld2\n",
      "└ @ Sqra /home/htc/bzfsikor/code/Sqra.jl/src/permadict.jl:45\n"
     ]
    },
    {
     "output_type": "stream",
     "name": "stdout",
     "text": [
      "  5.648129 seconds (1.82 M allocations: 2.878 GiB, 14.94% gc time)\n",
      "l = 12\n"
     ]
    },
    {
     "output_type": "stream",
     "name": "stderr",
     "text": [
      "┌ Info: reading cache/exp_5947385685605986249.jld2\n",
      "└ @ Sqra /home/htc/bzfsikor/code/Sqra.jl/src/permadict.jl:45\n"
     ]
    },
    {
     "output_type": "stream",
     "name": "stdout",
     "text": [
      "  5.918725 seconds (2.57 M allocations: 2.911 GiB, 15.12% gc time)\n",
      "l = 13\n"
     ]
    },
    {
     "output_type": "stream",
     "name": "stderr",
     "text": [
      "┌ Info: reading cache/exp_3498239224669550597.jld2\n",
      "└ @ Sqra /home/htc/bzfsikor/code/Sqra.jl/src/permadict.jl:45\n"
     ]
    },
    {
     "output_type": "stream",
     "name": "stdout",
     "text": [
      "  6.166413 seconds (3.50 M allocations: 2.959 GiB, 15.66% gc time)\n",
      "l = 14\n"
     ]
    },
    {
     "output_type": "stream",
     "name": "stderr",
     "text": [
      "┌ Info: reading cache/exp_12021810186492214401.jld2\n",
      "└ @ Sqra /home/htc/bzfsikor/code/Sqra.jl/src/permadict.jl:45\n"
     ]
    },
    {
     "output_type": "stream",
     "name": "stdout",
     "text": [
      "  6.096722 seconds (4.44 M allocations: 3.000 GiB, 17.42% gc time)\n",
      "l = 15\n"
     ]
    },
    {
     "output_type": "stream",
     "name": "stderr",
     "text": [
      "┌ Info: reading cache/exp_10829661124083396955.jld2\n",
      "└ @ Sqra /home/htc/bzfsikor/code/Sqra.jl/src/permadict.jl:45\n"
     ]
    },
    {
     "output_type": "stream",
     "name": "stdout",
     "text": [
      "  7.385527 seconds (5.57 M allocations: 3.048 GiB, 21.94% gc time)\n",
      "l = 16\n"
     ]
    },
    {
     "output_type": "stream",
     "name": "stderr",
     "text": [
      "┌ Info: reading cache/exp_18411395778439746430.jld2\n",
      "└ @ Sqra /home/htc/bzfsikor/code/Sqra.jl/src/permadict.jl:45\n"
     ]
    },
    {
     "output_type": "stream",
     "name": "stdout",
     "text": [
      "  7.668336 seconds (7.04 M allocations: 3.128 GiB, 23.75% gc time)\n",
      "l = 17\n"
     ]
    },
    {
     "output_type": "stream",
     "name": "stderr",
     "text": [
      "┌ Info: reading cache/exp_7477666358816043578.jld2\n",
      "└ @ Sqra /home/htc/bzfsikor/code/Sqra.jl/src/permadict.jl:45\n"
     ]
    },
    {
     "output_type": "stream",
     "name": "stdout",
     "text": [
      "  8.136061 seconds (8.79 M allocations: 3.203 GiB, 25.46% gc time)\n",
      "l = 18\n"
     ]
    },
    {
     "output_type": "stream",
     "name": "stderr",
     "text": [
      "┌ Info: reading cache/exp_16946486465832636126.jld2\n",
      "└ @ Sqra /home/htc/bzfsikor/code/Sqra.jl/src/permadict.jl:45\n"
     ]
    },
    {
     "output_type": "stream",
     "name": "stdout",
     "text": [
      "  8.455196 seconds (10.65 M allocations: 3.282 GiB, 28.65% gc time)\n",
      "l = 19\n"
     ]
    },
    {
     "output_type": "stream",
     "name": "stderr",
     "text": [
      "┌ Info: reading cache/exp_2202868864072489731.jld2\n",
      "└ @ Sqra /home/htc/bzfsikor/code/Sqra.jl/src/permadict.jl:45\n"
     ]
    },
    {
     "output_type": "stream",
     "name": "stdout",
     "text": [
      "  9.085711 seconds (12.68 M allocations: 3.402 GiB, 29.73% gc time)\n",
      "l = 20\n"
     ]
    },
    {
     "output_type": "stream",
     "name": "stderr",
     "text": [
      "┌ Info: reading cache/sim_3953794533859111492.jld2\n",
      "└ @ Sqra /home/htc/bzfsikor/code/Sqra.jl/src/permadict.jl:45\n",
      "┌ Warning: Committor computation did not converge\n",
      "└ @ Sqra /home/htc/bzfsikor/code/Sqra.jl/src/experiment.jl:175\n"
     ]
    },
    {
     "output_type": "stream",
     "name": "stdout",
     "text": [
      "Committor residual mean: 0.00010316191435484655\n"
     ]
    },
    {
     "output_type": "stream",
     "name": "stderr",
     "text": [
      "┌ Info: writing cache/exp_17849665512271205627.jld2\n",
      "└ @ Sqra /home/htc/bzfsikor/code/Sqra.jl/src/permadict.jl:50\n"
     ]
    },
    {
     "output_type": "stream",
     "name": "stdout",
     "text": [
      "2322.876792 seconds (194.13 M allocations: 20.814 GiB, 2.15% gc time, 0.63% compilation time)\n"
     ]
    }
   ],
   "metadata": {}
  },
  {
   "cell_type": "code",
   "execution_count": 15,
   "source": [
    "L = length(r)\n",
    "errs = fill(NaN,L,L)\n",
    "for j in 2:L\n",
    "\tfor i in 1:j-1\n",
    "\t\terrs[i,j] = Sqra.error(r[j], r[i])\n",
    "\tend\n",
    "end\n",
    "errs"
   ],
   "outputs": [
    {
     "output_type": "execute_result",
     "data": {
      "text/plain": [
       "19×19 Matrix{Float64}:\n",
       " NaN    0.42322    0.319279    0.363264  …    0.288454       0.281289\n",
       " NaN  NaN          0.356674    0.266007       0.294238       0.296203\n",
       " NaN  NaN        NaN           0.238803       0.1273         0.114003\n",
       " NaN  NaN        NaN         NaN              0.0438952      0.0210858\n",
       " NaN  NaN        NaN         NaN              0.0103155      0.00544742\n",
       " NaN  NaN        NaN         NaN         …    0.00154767     0.00210176\n",
       " NaN  NaN        NaN         NaN              0.00106706     0.000936522\n",
       " NaN  NaN        NaN         NaN              0.000869305    0.000682922\n",
       " NaN  NaN        NaN         NaN              0.000603217    0.000342957\n",
       " NaN  NaN        NaN         NaN              0.000427995    0.000372988\n",
       " NaN  NaN        NaN         NaN         …    0.000347953    0.000319351\n",
       " NaN  NaN        NaN         NaN              0.00032093     0.000309007\n",
       " NaN  NaN        NaN         NaN              0.000258273    0.00023713\n",
       " NaN  NaN        NaN         NaN              0.000217744    0.000197256\n",
       " NaN  NaN        NaN         NaN              0.000210899    0.000176034\n",
       " NaN  NaN        NaN         NaN         …    0.000146326    0.000182737\n",
       " NaN  NaN        NaN         NaN              0.000216364    0.0001203\n",
       " NaN  NaN        NaN         NaN            NaN              0.000181062\n",
       " NaN  NaN        NaN         NaN            NaN            NaN"
      ]
     },
     "metadata": {},
     "execution_count": 15
    }
   ],
   "metadata": {}
  },
  {
   "cell_type": "code",
   "execution_count": 53,
   "source": [
    "plot(1 ./levels[1:end], sqrt.(errs))\n",
    "#lot(levels[1:end], sqrt.(errs))\n",
    "yaxis!(:log)\n",
    "xaxis!(:log)\n",
    "xlabel!(\"h\")\n",
    "ylabel!(\"|u_* - u_h|\")\n",
    "plot!(legend=false)\n",
    "xticks!([0.1, sqrt(0.1)])"
   ],
   "outputs": [
    {
     "output_type": "execute_result",
     "data": {
      "image/svg+xml": "<?xml version=\"1.0\" encoding=\"utf-8\"?>\n<svg xmlns=\"http://www.w3.org/2000/svg\" xmlns:xlink=\"http://www.w3.org/1999/xlink\" width=\"600\" height=\"400\" viewBox=\"0 0 2400 1600\">\n<defs>\n  <clipPath id=\"clip860\">\n    <rect x=\"0\" y=\"0\" width=\"2400\" height=\"1600\"/>\n  </clipPath>\n</defs>\n<path clip-path=\"url(#clip860)\" d=\"\nM0 1600 L2400 1600 L2400 0 L0 0  Z\n  \" fill=\"#ffffff\" fill-rule=\"evenodd\" fill-opacity=\"1\"/>\n<defs>\n  <clipPath id=\"clip861\">\n    <rect x=\"480\" y=\"0\" width=\"1681\" height=\"1600\"/>\n  </clipPath>\n</defs>\n<path clip-path=\"url(#clip860)\" d=\"\nM251.372 1410.9 L2352.76 1410.9 L2352.76 47.2441 L251.372 47.2441  Z\n  \" fill=\"#ffffff\" fill-rule=\"evenodd\" fill-opacity=\"1\"/>\n<defs>\n  <clipPath id=\"clip862\">\n    <rect x=\"251\" y=\"47\" width=\"2102\" height=\"1365\"/>\n  </clipPath>\n</defs>\n<polyline clip-path=\"url(#clip862)\" style=\"stroke:#000000; stroke-linecap:butt; stroke-linejoin:round; stroke-width:2; stroke-opacity:0.1; fill:none\" points=\"\n  907.618,1410.9 907.618,47.2441 \n  \"/>\n<polyline clip-path=\"url(#clip862)\" style=\"stroke:#000000; stroke-linecap:butt; stroke-linejoin:round; stroke-width:2; stroke-opacity:0.1; fill:none\" points=\"\n  1898.84,1410.9 1898.84,47.2441 \n  \"/>\n<polyline clip-path=\"url(#clip860)\" style=\"stroke:#000000; stroke-linecap:butt; stroke-linejoin:round; stroke-width:4; stroke-opacity:1; fill:none\" points=\"\n  251.372,1410.9 2352.76,1410.9 \n  \"/>\n<polyline clip-path=\"url(#clip860)\" style=\"stroke:#000000; stroke-linecap:butt; stroke-linejoin:round; stroke-width:4; stroke-opacity:1; fill:none\" points=\"\n  907.618,1410.9 907.618,1392 \n  \"/>\n<polyline clip-path=\"url(#clip860)\" style=\"stroke:#000000; stroke-linecap:butt; stroke-linejoin:round; stroke-width:4; stroke-opacity:1; fill:none\" points=\"\n  1898.84,1410.9 1898.84,1392 \n  \"/>\n<path clip-path=\"url(#clip860)\" d=\"M838.86 1489.17 L846.499 1489.17 L846.499 1462.8 L838.189 1464.47 L838.189 1460.21 L846.453 1458.54 L851.129 1458.54 L851.129 1489.17 L858.767 1489.17 L858.767 1493.1 L838.86 1493.1 L838.86 1489.17 Z\" fill=\"#000000\" fill-rule=\"evenodd\" fill-opacity=\"1\" /><path clip-path=\"url(#clip860)\" d=\"M878.212 1461.62 Q874.601 1461.62 872.772 1465.19 Q870.966 1468.73 870.966 1475.86 Q870.966 1482.97 872.772 1486.53 Q874.601 1490.07 878.212 1490.07 Q881.846 1490.07 883.652 1486.53 Q885.48 1482.97 885.48 1475.86 Q885.48 1468.73 883.652 1465.19 Q881.846 1461.62 878.212 1461.62 M878.212 1457.92 Q884.022 1457.92 887.077 1462.53 Q890.156 1467.11 890.156 1475.86 Q890.156 1484.59 887.077 1489.19 Q884.022 1493.78 878.212 1493.78 Q872.402 1493.78 869.323 1489.19 Q866.267 1484.59 866.267 1475.86 Q866.267 1467.11 869.323 1462.53 Q872.402 1457.92 878.212 1457.92 Z\" fill=\"#000000\" fill-rule=\"evenodd\" fill-opacity=\"1\" /><path clip-path=\"url(#clip860)\" d=\"M890.156 1452.02 L914.268 1452.02 L914.268 1455.22 L890.156 1455.22 L890.156 1452.02 Z\" fill=\"#000000\" fill-rule=\"evenodd\" fill-opacity=\"1\" /><path clip-path=\"url(#clip860)\" d=\"M923.126 1462.5 L929.333 1462.5 L929.333 1441.07 L922.581 1442.43 L922.581 1438.97 L929.295 1437.61 L933.094 1437.61 L933.094 1462.5 L939.301 1462.5 L939.301 1465.69 L923.126 1465.69 L923.126 1462.5 Z\" fill=\"#000000\" fill-rule=\"evenodd\" fill-opacity=\"1\" /><path clip-path=\"url(#clip860)\" d=\"M946.974 1460.92 L950.943 1460.92 L950.943 1465.69 L946.974 1465.69 L946.974 1460.92 Z\" fill=\"#000000\" fill-rule=\"evenodd\" fill-opacity=\"1\" /><path clip-path=\"url(#clip860)\" d=\"M967.343 1440.11 Q964.409 1440.11 962.923 1443.01 Q961.456 1445.89 961.456 1451.68 Q961.456 1457.46 962.923 1460.35 Q964.409 1463.23 967.343 1463.23 Q970.296 1463.23 971.763 1460.35 Q973.249 1457.46 973.249 1451.68 Q973.249 1445.89 971.763 1443.01 Q970.296 1440.11 967.343 1440.11 M967.343 1437.11 Q972.064 1437.11 974.547 1440.85 Q977.048 1444.57 977.048 1451.68 Q977.048 1458.77 974.547 1462.51 Q972.064 1466.24 967.343 1466.24 Q962.622 1466.24 960.121 1462.51 Q957.638 1458.77 957.638 1451.68 Q957.638 1444.57 960.121 1440.85 Q962.622 1437.11 967.343 1437.11 Z\" fill=\"#000000\" fill-rule=\"evenodd\" fill-opacity=\"1\" /><path clip-path=\"url(#clip860)\" d=\"M1830.48 1489.17 L1838.12 1489.17 L1838.12 1462.8 L1829.81 1464.47 L1829.81 1460.21 L1838.08 1458.54 L1842.75 1458.54 L1842.75 1489.17 L1850.39 1489.17 L1850.39 1493.1 L1830.48 1493.1 L1830.48 1489.17 Z\" fill=\"#000000\" fill-rule=\"evenodd\" fill-opacity=\"1\" /><path clip-path=\"url(#clip860)\" d=\"M1869.83 1461.62 Q1866.22 1461.62 1864.4 1465.19 Q1862.59 1468.73 1862.59 1475.86 Q1862.59 1482.97 1864.4 1486.53 Q1866.22 1490.07 1869.83 1490.07 Q1873.47 1490.07 1875.27 1486.53 Q1877.1 1482.97 1877.1 1475.86 Q1877.1 1468.73 1875.27 1465.19 Q1873.47 1461.62 1869.83 1461.62 M1869.83 1457.92 Q1875.65 1457.92 1878.7 1462.53 Q1881.78 1467.11 1881.78 1475.86 Q1881.78 1484.59 1878.7 1489.19 Q1875.65 1493.78 1869.83 1493.78 Q1864.02 1493.78 1860.95 1489.19 Q1857.89 1484.59 1857.89 1475.86 Q1857.89 1467.11 1860.95 1462.53 Q1864.02 1457.92 1869.83 1457.92 Z\" fill=\"#000000\" fill-rule=\"evenodd\" fill-opacity=\"1\" /><path clip-path=\"url(#clip860)\" d=\"M1881.78 1452.02 L1905.89 1452.02 L1905.89 1455.22 L1881.78 1455.22 L1881.78 1452.02 Z\" fill=\"#000000\" fill-rule=\"evenodd\" fill-opacity=\"1\" /><path clip-path=\"url(#clip860)\" d=\"M1922.22 1440.11 Q1919.28 1440.11 1917.8 1443.01 Q1916.33 1445.89 1916.33 1451.68 Q1916.33 1457.46 1917.8 1460.35 Q1919.28 1463.23 1922.22 1463.23 Q1925.17 1463.23 1926.64 1460.35 Q1928.12 1457.46 1928.12 1451.68 Q1928.12 1445.89 1926.64 1443.01 Q1925.17 1440.11 1922.22 1440.11 M1922.22 1437.11 Q1926.94 1437.11 1929.42 1440.85 Q1931.92 1444.57 1931.92 1451.68 Q1931.92 1458.77 1929.42 1462.51 Q1926.94 1466.24 1922.22 1466.24 Q1917.5 1466.24 1914.99 1462.51 Q1912.51 1458.77 1912.51 1451.68 Q1912.51 1444.57 1914.99 1440.85 Q1917.5 1437.11 1922.22 1437.11 Z\" fill=\"#000000\" fill-rule=\"evenodd\" fill-opacity=\"1\" /><path clip-path=\"url(#clip860)\" d=\"M1938.6 1460.92 L1942.57 1460.92 L1942.57 1465.69 L1938.6 1465.69 L1938.6 1460.92 Z\" fill=\"#000000\" fill-rule=\"evenodd\" fill-opacity=\"1\" /><path clip-path=\"url(#clip860)\" d=\"M1950.88 1437.61 L1965.79 1437.61 L1965.79 1440.81 L1954.36 1440.81 L1954.36 1447.69 Q1955.19 1447.41 1956.01 1447.28 Q1956.84 1447.13 1957.67 1447.13 Q1962.37 1447.13 1965.12 1449.71 Q1967.86 1452.28 1967.86 1456.68 Q1967.86 1461.22 1965.04 1463.74 Q1962.22 1466.24 1957.09 1466.24 Q1955.32 1466.24 1953.47 1465.94 Q1951.65 1465.64 1949.69 1465.04 L1949.69 1461.22 Q1951.39 1462.14 1953.19 1462.59 Q1955 1463.04 1957.01 1463.04 Q1960.26 1463.04 1962.16 1461.33 Q1964.06 1459.62 1964.06 1456.68 Q1964.06 1453.75 1962.16 1452.04 Q1960.26 1450.33 1957.01 1450.33 Q1955.49 1450.33 1953.96 1450.67 Q1952.46 1451 1950.88 1451.72 L1950.88 1437.61 Z\" fill=\"#000000\" fill-rule=\"evenodd\" fill-opacity=\"1\" /><path clip-path=\"url(#clip860)\" d=\"M1316.99 1552.67 L1316.99 1574.19 L1311.14 1574.19 L1311.14 1552.86 Q1311.14 1547.8 1309.16 1545.29 Q1307.19 1542.77 1303.24 1542.77 Q1298.5 1542.77 1295.76 1545.79 Q1293.02 1548.82 1293.02 1554.04 L1293.02 1574.19 L1287.14 1574.19 L1287.14 1524.66 L1293.02 1524.66 L1293.02 1544.08 Q1295.13 1540.86 1297.96 1539.27 Q1300.82 1537.68 1304.55 1537.68 Q1310.69 1537.68 1313.84 1541.5 Q1316.99 1545.29 1316.99 1552.67 Z\" fill=\"#000000\" fill-rule=\"evenodd\" fill-opacity=\"1\" /><polyline clip-path=\"url(#clip862)\" style=\"stroke:#000000; stroke-linecap:butt; stroke-linejoin:round; stroke-width:2; stroke-opacity:0.1; fill:none\" points=\"\n  251.372,1401.42 2352.76,1401.42 \n  \"/>\n<polyline clip-path=\"url(#clip862)\" style=\"stroke:#000000; stroke-linecap:butt; stroke-linejoin:round; stroke-width:2; stroke-opacity:0.1; fill:none\" points=\"\n  251.372,675.895 2352.76,675.895 \n  \"/>\n<polyline clip-path=\"url(#clip860)\" style=\"stroke:#000000; stroke-linecap:butt; stroke-linejoin:round; stroke-width:4; stroke-opacity:1; fill:none\" points=\"\n  251.372,1410.9 251.372,47.2441 \n  \"/>\n<polyline clip-path=\"url(#clip860)\" style=\"stroke:#000000; stroke-linecap:butt; stroke-linejoin:round; stroke-width:4; stroke-opacity:1; fill:none\" points=\"\n  251.372,1401.42 270.27,1401.42 \n  \"/>\n<polyline clip-path=\"url(#clip860)\" style=\"stroke:#000000; stroke-linecap:butt; stroke-linejoin:round; stroke-width:4; stroke-opacity:1; fill:none\" points=\"\n  251.372,675.895 270.27,675.895 \n  \"/>\n<path clip-path=\"url(#clip860)\" d=\"M115.232 1421.21 L122.871 1421.21 L122.871 1394.85 L114.561 1396.51 L114.561 1392.25 L122.825 1390.59 L127.501 1390.59 L127.501 1421.21 L135.14 1421.21 L135.14 1425.15 L115.232 1425.15 L115.232 1421.21 Z\" fill=\"#000000\" fill-rule=\"evenodd\" fill-opacity=\"1\" /><path clip-path=\"url(#clip860)\" d=\"M154.584 1393.67 Q150.973 1393.67 149.144 1397.23 Q147.339 1400.77 147.339 1407.9 Q147.339 1415.01 149.144 1418.57 Q150.973 1422.12 154.584 1422.12 Q158.218 1422.12 160.024 1418.57 Q161.852 1415.01 161.852 1407.9 Q161.852 1400.77 160.024 1397.23 Q158.218 1393.67 154.584 1393.67 M154.584 1389.96 Q160.394 1389.96 163.45 1394.57 Q166.528 1399.15 166.528 1407.9 Q166.528 1416.63 163.45 1421.24 Q160.394 1425.82 154.584 1425.82 Q148.774 1425.82 145.695 1421.24 Q142.64 1416.63 142.64 1407.9 Q142.64 1399.15 145.695 1394.57 Q148.774 1389.96 154.584 1389.96 Z\" fill=\"#000000\" fill-rule=\"evenodd\" fill-opacity=\"1\" /><path clip-path=\"url(#clip860)\" d=\"M166.528 1384.06 L190.64 1384.06 L190.64 1387.26 L166.528 1387.26 L166.528 1384.06 Z\" fill=\"#000000\" fill-rule=\"evenodd\" fill-opacity=\"1\" /><path clip-path=\"url(#clip860)\" d=\"M202.113 1394.54 L215.372 1394.54 L215.372 1397.74 L197.542 1397.74 L197.542 1394.54 Q199.705 1392.3 203.429 1388.54 Q207.172 1384.76 208.131 1383.67 Q209.956 1381.62 210.67 1380.21 Q211.404 1378.78 211.404 1377.41 Q211.404 1375.17 209.824 1373.76 Q208.263 1372.35 205.743 1372.35 Q203.956 1372.35 201.962 1372.97 Q199.987 1373.59 197.73 1374.85 L197.73 1371.01 Q200.025 1370.09 202.019 1369.62 Q204.012 1369.15 205.667 1369.15 Q210.031 1369.15 212.626 1371.33 Q215.222 1373.51 215.222 1377.16 Q215.222 1378.89 214.563 1380.45 Q213.924 1382 212.212 1384.1 Q211.742 1384.65 209.222 1387.26 Q206.702 1389.86 202.113 1394.54 Z\" fill=\"#000000\" fill-rule=\"evenodd\" fill-opacity=\"1\" /><path clip-path=\"url(#clip860)\" d=\"M114.931 695.688 L122.57 695.688 L122.57 669.322 L114.26 670.989 L114.26 666.73 L122.524 665.063 L127.2 665.063 L127.2 695.688 L134.839 695.688 L134.839 699.623 L114.931 699.623 L114.931 695.688 Z\" fill=\"#000000\" fill-rule=\"evenodd\" fill-opacity=\"1\" /><path clip-path=\"url(#clip860)\" d=\"M154.283 668.142 Q150.672 668.142 148.843 671.706 Q147.038 675.248 147.038 682.378 Q147.038 689.484 148.843 693.049 Q150.672 696.591 154.283 696.591 Q157.917 696.591 159.723 693.049 Q161.552 689.484 161.552 682.378 Q161.552 675.248 159.723 671.706 Q157.917 668.142 154.283 668.142 M154.283 664.438 Q160.093 664.438 163.149 669.044 Q166.227 673.628 166.227 682.378 Q166.227 691.105 163.149 695.711 Q160.093 700.294 154.283 700.294 Q148.473 700.294 145.394 695.711 Q142.339 691.105 142.339 682.378 Q142.339 673.628 145.394 669.044 Q148.473 664.438 154.283 664.438 Z\" fill=\"#000000\" fill-rule=\"evenodd\" fill-opacity=\"1\" /><path clip-path=\"url(#clip860)\" d=\"M166.227 658.539 L190.339 658.539 L190.339 661.737 L166.227 661.737 L166.227 658.539 Z\" fill=\"#000000\" fill-rule=\"evenodd\" fill-opacity=\"1\" /><path clip-path=\"url(#clip860)\" d=\"M199.197 669.015 L205.404 669.015 L205.404 647.593 L198.652 648.947 L198.652 645.487 L205.366 644.133 L209.166 644.133 L209.166 669.015 L215.372 669.015 L215.372 672.213 L199.197 672.213 L199.197 669.015 Z\" fill=\"#000000\" fill-rule=\"evenodd\" fill-opacity=\"1\" /><path clip-path=\"url(#clip860)\" d=\"M14.1925 880.686 L79.3773 880.686 L79.3773 886.096 L14.1925 886.096 L14.1925 880.686 Z\" fill=\"#000000\" fill-rule=\"evenodd\" fill-opacity=\"1\" /><path clip-path=\"url(#clip860)\" d=\"M49.9359 866.872 L28.3562 866.872 L28.3562 861.016 L49.7131 861.016 Q54.7739 861.016 57.3202 859.042 Q59.8346 857.069 59.8346 853.122 Q59.8346 848.38 56.8109 845.642 Q53.7872 842.873 48.5673 842.873 L28.3562 842.873 L28.3562 837.017 L64.0042 837.017 L64.0042 842.873 L58.5296 842.873 Q61.7762 845.006 63.3676 847.839 Q64.9272 850.639 64.9272 854.363 Q64.9272 860.506 61.1078 863.689 Q57.2883 866.872 49.9359 866.872 M27.4968 852.135 L27.4968 852.135 Z\" fill=\"#000000\" fill-rule=\"evenodd\" fill-opacity=\"1\" /><path clip-path=\"url(#clip860)\" d=\"M74.8259 797.868 L79.3773 797.868 L79.3773 831.733 L74.8259 831.733 L74.8259 797.868 Z\" fill=\"#000000\" fill-rule=\"evenodd\" fill-opacity=\"1\" /><path clip-path=\"url(#clip860)\" d=\"M24.314 767.853 L30.4887 779.28 L36.6953 767.853 L39.8145 769.699 L33.3533 780.394 L45.3526 780.394 L45.3526 784.022 L33.3533 784.022 L39.8145 794.717 L36.6953 796.563 L30.4887 785.136 L24.314 796.563 L21.163 794.717 L27.6241 784.022 L15.6248 784.022 L15.6248 780.394 L27.6241 780.394 L21.163 769.699 L24.314 767.853 Z\" fill=\"#000000\" fill-rule=\"evenodd\" fill-opacity=\"1\" /><path clip-path=\"url(#clip860)\" d=\"M43.5384 742.009 L43.5384 724.853 L48.7583 724.853 L48.7583 742.009 L43.5384 742.009 Z\" fill=\"#000000\" fill-rule=\"evenodd\" fill-opacity=\"1\" /><path clip-path=\"url(#clip860)\" d=\"M49.9359 695.412 L28.3562 695.412 L28.3562 689.555 L49.7131 689.555 Q54.7739 689.555 57.3202 687.582 Q59.8346 685.609 59.8346 681.662 Q59.8346 676.919 56.8109 674.182 Q53.7872 671.413 48.5673 671.413 L28.3562 671.413 L28.3562 665.557 L64.0042 665.557 L64.0042 671.413 L58.5296 671.413 Q61.7762 673.545 63.3676 676.378 Q64.9272 679.179 64.9272 682.903 Q64.9272 689.046 61.1078 692.229 Q57.2883 695.412 49.9359 695.412 M27.4968 680.675 L27.4968 680.675 Z\" fill=\"#000000\" fill-rule=\"evenodd\" fill-opacity=\"1\" /><path clip-path=\"url(#clip860)\" d=\"M74.8259 626.407 L79.3773 626.407 L79.3773 660.273 L74.8259 660.273 L74.8259 626.407 Z\" fill=\"#000000\" fill-rule=\"evenodd\" fill-opacity=\"1\" /><path clip-path=\"url(#clip860)\" d=\"M42.4881 591.269 L64.0042 591.269 L64.0042 597.125 L42.679 597.125 Q37.6183 597.125 35.1038 599.099 Q32.5894 601.072 32.5894 605.019 Q32.5894 609.761 35.6131 612.498 Q38.6368 615.236 43.8567 615.236 L64.0042 615.236 L64.0042 621.124 L14.479 621.124 L14.479 615.236 L33.8944 615.236 Q30.6797 613.135 29.0883 610.302 Q27.4968 607.438 27.4968 603.714 Q27.4968 597.571 31.3163 594.42 Q35.1038 591.269 42.4881 591.269 Z\" fill=\"#000000\" fill-rule=\"evenodd\" fill-opacity=\"1\" /><path clip-path=\"url(#clip860)\" d=\"M14.1925 572.044 L79.3773 572.044 L79.3773 577.455 L14.1925 577.455 L14.1925 572.044 Z\" fill=\"#000000\" fill-rule=\"evenodd\" fill-opacity=\"1\" /><polyline clip-path=\"url(#clip862)\" style=\"stroke:#3da44d; stroke-linecap:butt; stroke-linejoin:round; stroke-width:4; stroke-opacity:1; fill:none\" points=\"\n  2293.28,130.238 1944.19,112.789 \n  \"/>\n<polyline clip-path=\"url(#clip862)\" style=\"stroke:#c271d2; stroke-linecap:butt; stroke-linejoin:round; stroke-width:4; stroke-opacity:1; fill:none\" points=\"\n  2293.28,109.905 1944.19,158.997 1696.51,175.994 \n  \"/>\n<polyline clip-path=\"url(#clip862)\" style=\"stroke:#ac8d18; stroke-linecap:butt; stroke-linejoin:round; stroke-width:4; stroke-opacity:1; fill:none\" points=\"\n  2293.28,128.442 1944.19,174.565 1696.51,245.879 1504.39,236.241 \n  \"/>\n<polyline clip-path=\"url(#clip862)\" style=\"stroke:#00a9ad; stroke-linecap:butt; stroke-linejoin:round; stroke-width:4; stroke-opacity:1; fill:none\" points=\"\n  2293.28,109.692 1944.19,135.613 1696.51,195.416 1504.39,285.867 1347.42,314.354 \n  \"/>\n<polyline clip-path=\"url(#clip862)\" style=\"stroke:#ed5d92; stroke-linecap:butt; stroke-linejoin:round; stroke-width:4; stroke-opacity:1; fill:none\" points=\"\n  2293.28,123.296 1944.19,138.662 1696.51,225.97 1504.39,261.639 1347.42,426.307 1214.7,420.31 \n  \"/>\n<polyline clip-path=\"url(#clip862)\" style=\"stroke:#c68125; stroke-linecap:butt; stroke-linejoin:round; stroke-width:4; stroke-opacity:1; fill:none\" points=\"\n  2293.28,121.512 1944.19,149.221 1696.51,207.701 1504.39,291.243 1347.42,434.774 1214.7,626.023 1099.74,582.202 \n  \"/>\n<polyline clip-path=\"url(#clip862)\" style=\"stroke:#00a98d; stroke-linecap:butt; stroke-linejoin:round; stroke-width:4; stroke-opacity:1; fill:none\" points=\"\n  2293.28,140.736 1944.19,151.193 1696.51,274.48 1504.39,442.308 1347.42,550.463 1214.7,674.248 1099.74,891.931 998.33,799.815 \n  \"/>\n<polyline clip-path=\"url(#clip862)\" style=\"stroke:#8e971d; stroke-linecap:butt; stroke-linejoin:round; stroke-width:4; stroke-opacity:1; fill:none\" points=\"\n  2293.28,128.997 1944.19,150.513 1696.51,240.063 1504.39,334.494 1347.42,490.65 1214.7,728.041 1099.74,883.885 998.33,974.445 907.618,937.081 \n  \"/>\n<polyline clip-path=\"url(#clip862)\" style=\"stroke:#00a8cb; stroke-linecap:butt; stroke-linejoin:round; stroke-width:4; stroke-opacity:1; fill:none\" points=\"\n  2293.28,136.67 1944.19,141.665 1696.51,263.467 1504.39,364.475 1347.42,751.715 1214.7,775.346 1099.74,970.812 998.33,984.71 907.618,1094.47 825.56,1007.35 \n  \n  \"/>\n<polyline clip-path=\"url(#clip862)\" style=\"stroke:#9b7fe8; stroke-linecap:butt; stroke-linejoin:round; stroke-width:4; stroke-opacity:1; fill:none\" points=\"\n  2293.28,133.817 1944.19,142.293 1696.51,236.296 1504.39,363.703 1347.42,506.073 1214.7,725.003 1099.74,924.367 998.33,974.088 907.618,1069.08 825.56,1157.54 \n  750.647,1075.57 \n  \"/>\n<polyline clip-path=\"url(#clip862)\" style=\"stroke:#608cf6; stroke-linecap:butt; stroke-linejoin:round; stroke-width:4; stroke-opacity:1; fill:none\" points=\"\n  2293.28,144.625 1944.19,149.446 1696.51,284.123 1504.39,385.207 1347.42,646.96 1214.7,1038.54 1099.74,1009.39 998.33,1018.92 907.618,1119.83 825.56,1125.75 \n  750.647,1201.91 681.733,1118.03 \n  \"/>\n<polyline clip-path=\"url(#clip862)\" style=\"stroke:#f05f73; stroke-linecap:butt; stroke-linejoin:round; stroke-width:4; stroke-opacity:1; fill:none\" points=\"\n  2293.28,138.805 1944.19,142.713 1696.51,257.524 1504.39,501.583 1347.42,630.069 1214.7,802.674 1099.74,955.453 998.33,1038.83 907.618,1132.96 825.56,1137.3 \n  750.647,1162.07 681.733,1221.6 617.929,1155.68 \n  \"/>\n<polyline clip-path=\"url(#clip862)\" style=\"stroke:#dd64b5; stroke-linecap:butt; stroke-linejoin:round; stroke-width:4; stroke-opacity:1; fill:none\" points=\"\n  2293.28,145.535 1944.19,143.327 1696.51,285.588 1504.39,400.447 1347.42,727.069 1214.7,898.627 1099.74,1057.37 998.33,1055.5 907.618,1117.77 825.56,1137.34 \n  750.647,1189.87 681.733,1182.12 617.929,1261.48 558.529,1187.6 \n  \"/>\n<polyline clip-path=\"url(#clip862)\" style=\"stroke:#6b9e32; stroke-linecap:butt; stroke-linejoin:round; stroke-width:4; stroke-opacity:1; fill:none\" points=\"\n  2293.28,141.353 1944.19,141.113 1696.51,253.557 1504.39,423.539 1347.42,605.994 1214.7,897.959 1099.74,996.083 998.33,1048.94 907.618,1126.38 825.56,1162.15 \n  750.647,1204.34 681.733,1222.12 617.929,1238.59 558.529,1305.53 502.963,1232.18 \n  \"/>\n<polyline clip-path=\"url(#clip862)\" style=\"stroke:#009af9; stroke-linecap:butt; stroke-linejoin:round; stroke-width:4; stroke-opacity:1; fill:none\" points=\"\n  2293.28,150.483 1944.19,140.047 1696.51,286.074 1504.39,435.77 1347.42,864.183 1214.7,900.618 1099.74,1061.46 998.33,1149.84 907.618,1165.83 825.56,1180.86 \n  750.647,1233.55 681.733,1238.15 617.929,1276.61 558.529,1276.8 502.963,1336.88 450.768,1261.46 \n  \"/>\n<polyline clip-path=\"url(#clip862)\" style=\"stroke:#e26f46; stroke-linecap:butt; stroke-linejoin:round; stroke-width:4; stroke-opacity:1; fill:none\" points=\"\n  2293.28,146.234 1944.19,143.106 1696.51,275.105 1504.39,442.851 1347.42,671.001 1214.7,969.849 1099.74,1028.43 998.33,1060.72 907.618,1118.29 825.56,1172.36 \n  750.647,1204.98 681.733,1217.71 617.929,1251.93 558.529,1278.83 502.963,1283.86 450.768,1341.45 401.557,1279.83 \n  \"/>\n<polyline clip-path=\"url(#clip862)\" style=\"stroke:#3da44d; stroke-linecap:butt; stroke-linejoin:round; stroke-width:4; stroke-opacity:1; fill:none\" points=\"\n  2293.28,150.197 1944.19,142.058 1696.51,292.486 1504.39,558.364 1347.42,771.596 1214.7,921.637 1099.74,1048.99 998.33,1098.74 907.618,1207.26 825.56,1194.03 \n  750.647,1218.49 681.733,1223.68 617.929,1265.39 558.529,1294.39 502.963,1312.33 450.768,1306.44 401.557,1372.3 355.007,1307.89 \n  \"/>\n</svg>\n"
     },
     "metadata": {},
     "execution_count": 53
    }
   ],
   "metadata": {}
  },
  {
   "cell_type": "code",
   "execution_count": 38,
   "source": [
    "sb = r[end].sb"
   ],
   "outputs": [
    {
     "output_type": "execute_result",
     "data": {
      "text/plain": [
       "Sqra.SparseBoxesDict{DataStructures.SortedDict{StaticArrays.SVector{6, Int64}, Vector{UInt32}, Base.Order.ForwardOrdering}}(20, [-0.8 0.8; -0.8 0.8; … ; -0.8 0.8; -0.8 0.8], DataStructures.SortedDict{StaticArrays.SVector{6, Int64}, Vector{UInt32}, Base.Order.ForwardOrdering}([1, 6, 2, 11, 6, 8] => [0x01f6db52, 0x01f6db53, 0x01f6db54], [1, 6, 2, 11, 6, 9] => [0x01f6db55], [1, 6, 2, 13, 6, 9] => [0x01f6db81], [1, 6, 3, 10, 6, 6] => [0x01f6db40], [1, 6, 3, 10, 6, 7] => [0x01f6db44, 0x01f6db45], [1, 6, 3, 11, 6, 7] => [0x01f6db42, 0x01f6db43, 0x01f6db46, 0x01f6db47, 0x01f6db49, 0x01f6db4c], [1, 6, 3, 11, 7, 7] => [0x01f6db3e, 0x01f6db41], [1, 6, 4, 2, 7, 7] => [0x00e42304], [1, 6, 4, 11, 7, 6] => [0x01f6db3f], [1, 6, 4, 12, 7, 8] => [0x00b6e418]…))"
      ]
     },
     "metadata": {},
     "execution_count": 38
    }
   ],
   "metadata": {}
  },
  {
   "cell_type": "code",
   "execution_count": 44,
   "source": [
    "length(sb.dict)"
   ],
   "outputs": [
    {
     "output_type": "execute_result",
     "data": {
      "text/plain": [
       "832943"
      ]
     },
     "metadata": {},
     "execution_count": 44
    }
   ],
   "metadata": {}
  },
  {
   "cell_type": "code",
   "execution_count": null,
   "source": [],
   "outputs": [],
   "metadata": {}
  }
 ],
 "metadata": {
  "orig_nbformat": 4,
  "kernelspec": {
   "name": "julia-1.6",
   "display_name": "Julia 1.6.1",
   "language": "julia"
  },
  "language_info": {
   "file_extension": ".jl",
   "name": "julia",
   "mimetype": "application/julia",
   "version": "1.6.1"
  }
 },
 "nbformat": 4,
 "nbformat_minor": 2
}