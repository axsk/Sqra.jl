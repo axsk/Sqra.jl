{
 "metadata": {
  "language_info": {
   "codemirror_mode": {
    "name": "ipython",
    "version": 3
   },
   "file_extension": ".py",
   "mimetype": "text/x-python",
   "name": "julia",
   "nbconvert_exporter": "python",
   "pygments_lexer": "ipython3",
   "version": 3
  },
  "orig_nbformat": 4,
  "kernelspec": {
   "name": "julia-1.6",
   "display_name": "Julia 1.6.1",
   "language": "julia"
  }
 },
 "nbformat": 4,
 "nbformat_minor": 2,
 "cells": [
  {
   "source": [
    "# Comparison of Sparse Boxes via Dict and Matrix\n",
    "\n",
    "We show that the Dict is faster.\n",
    "Furthermore we demonstrate that Matrix has wrong adjacencies where Dict is correct."
   ],
   "cell_type": "markdown",
   "metadata": {}
  },
  {
   "cell_type": "code",
   "execution_count": 47,
   "metadata": {},
   "outputs": [
    {
     "output_type": "stream",
     "name": "stderr",
     "text": [
      "\u001b[32mEuler Maruyama simulation100%|██████████████████████████| Time: 0:00:24\u001b[39m\n",
      "Committor residual mean: 3.2487114764219815e-7\n"
     ]
    },
    {
     "output_type": "execute_result",
     "data": {
      "text/plain": [
       "6"
      ]
     },
     "metadata": {},
     "execution_count": 47
    }
   ],
   "source": [
    "using Revise, Sqra\n",
    "\n",
    "s = Setup(sim=Simulation(x0 = Float32.(Sqra.x0gen), nsteps=10_000_000))\n",
    "e = Experiment(s)\n",
    "x = e.sim.x\n",
    "bnd = e.sb.boundary\n",
    "l = Sqra.level(e.sb)"
   ]
  },
  {
   "cell_type": "code",
   "execution_count": 48,
   "metadata": {},
   "outputs": [
    {
     "output_type": "stream",
     "name": "stdout",
     "text": [
      "  2.450575 seconds (10.06 M allocations: 1.758 GiB, 7.62% gc time)\n  0.001233 seconds (4 allocations: 654.031 KiB)\n"
     ]
    },
    {
     "output_type": "execute_result",
     "data": {
      "text/plain": [
       "6×6974 Matrix{Int64}:\n",
       " 1  1  1  1  1  1  1  1  1  1  1  1  1  …  6  6  6  6  6  6  6  6  6  6  6  6\n",
       " 1  1  1  1  1  1  1  2  2  2  2  2  2     5  5  5  6  6  6  6  6  6  6  6  6\n",
       " 2  3  3  3  3  3  3  1  1  1  1  1  1     6  6  6  4  4  4  4  5  5  5  5  5\n",
       " 3  2  2  2  2  3  3  3  3  3  3  3  4     4  4  4  5  5  5  6  4  4  4  5  5\n",
       " 3  3  3  3  4  3  4  2  2  2  3  3  1     4  5  5  5  5  6  5  3  4  4  4  6\n",
       " 2  1  3  4  3  1  4  2  3  5  2  3  5  …  5  3  4  3  4  4  4  4  4  5  5  4"
      ]
     },
     "metadata": {},
     "execution_count": 48
    }
   ],
   "source": [
    "@time sbd = Sqra.SparseBoxesDict(x, l, bnd)\n",
    "@time Sqra.boxmatrix(sbd)"
   ]
  },
  {
   "cell_type": "code",
   "execution_count": 49,
   "metadata": {},
   "outputs": [
    {
     "output_type": "stream",
     "name": "stdout",
     "text": [
      " 11.559880 seconds (20.04 M allocations: 2.756 GiB, 4.37% gc time)\n  0.000000 seconds\n"
     ]
    },
    {
     "output_type": "execute_result",
     "data": {
      "text/plain": [
       "6×6974 Matrix{Int64}:\n",
       " 1  1  1  1  1  1  1  1  1  1  1  1  1  …  6  6  6  6  6  6  6  6  6  6  6  6\n",
       " 1  1  1  1  1  1  1  2  2  2  2  2  2     5  5  5  6  6  6  6  6  6  6  6  6\n",
       " 2  3  3  3  3  3  3  1  1  1  1  1  1     6  6  6  4  4  4  4  5  5  5  5  5\n",
       " 3  2  2  2  2  3  3  3  3  3  3  3  4     4  4  4  5  5  5  6  4  4  4  5  5\n",
       " 3  3  3  3  4  3  4  2  2  2  3  3  1     4  5  5  5  5  6  5  3  4  4  4  6\n",
       " 2  1  3  4  3  1  4  2  3  5  2  3  5  …  5  3  4  3  4  4  4  4  4  5  5  4"
      ]
     },
     "metadata": {},
     "execution_count": 49
    }
   ],
   "source": [
    "@time sbm = Sqra.SparseBoxesMatrix(x, l, bnd)\n",
    "@time Sqra.boxmatrix(sbm)"
   ]
  },
  {
   "cell_type": "code",
   "execution_count": 50,
   "metadata": {},
   "outputs": [],
   "source": [
    "@assert Sqra.boxmatrix(sbd) == Sqra.boxmatrix(sbm)"
   ]
  },
  {
   "cell_type": "code",
   "execution_count": 51,
   "metadata": {},
   "outputs": [
    {
     "output_type": "stream",
     "name": "stdout",
     "text": [
      "  0.043233 seconds (373.64 k allocations: 19.158 MiB)\n"
     ]
    },
    {
     "output_type": "execute_result",
     "data": {
      "text/plain": [
       "6974×6974 SparseArrays.SparseMatrixCSC{Int64, Int64} with 49428 stored entries:\n",
       "⢿⣷⣌⠓⠲⢤⣀⡀⠀⠀⠀⠀⠀⠀⠀⠀⠀⠀⠀⠀⠀⠀⠀⠀⠀⠀⠀⠀⠀⠀⠀⠀⠀⠀⠀⠀⠀⠀⠀⠀\n",
       "⢦⠙⢻⣶⣤⣀⠀⠉⠙⠲⢤⡀⠀⠀⠀⠀⠀⠀⠀⠀⠀⠀⠀⠀⠀⠀⠀⠀⠀⠀⠀⠀⠀⠀⠀⠀⠀⠀⠀⠀\n",
       "⠘⣆⠀⢻⣻⣾⡳⣄⠀⠀⠀⠉⠓⢦⡀⠀⠀⠀⠀⠀⠀⠀⠀⠀⠀⠀⠀⠀⠀⠀⠀⠀⠀⠀⠀⠀⠀⠀⠀⠀\n",
       "⠀⠸⡄⠀⠙⢮⣻⣾⣳⡀⠀⠀⠀⠀⠉⠓⢦⡀⠀⠀⠀⠀⠀⠀⠀⠀⠀⠀⠀⠀⠀⠀⠀⠀⠀⠀⠀⠀⠀⠀\n",
       "⠀⠀⢳⡀⠀⠀⠙⠺⢿⣷⣀⡀⠀⠀⠀⠀⠀⠉⠳⢤⣀⠀⠀⠀⠀⠀⠀⠀⠀⠀⠀⠀⠀⠀⠀⠀⠀⠀⠀⠀\n",
       "⠀⠀⠀⠳⡄⠀⠀⠀⠀⠸⡿⣯⡙⢦⣀⠀⠀⠀⠀⠀⠈⢧⡀⠀⠀⠀⠀⠀⠀⠀⠀⠀⠀⠀⠀⠀⠀⠀⠀⠀\n",
       "⠀⠀⠀⠀⠹⣄⠀⠀⠀⠀⠳⣌⢻⣶⣌⠳⣄⠀⠀⠀⠀⠀⠙⢦⡀⠀⠀⠀⠀⠀⠀⠀⠀⠀⠀⠀⠀⠀⠀⠀\n",
       "⠀⠀⠀⠀⠀⠈⢧⠀⠀⠀⠀⠘⢦⡙⠻⣦⣌⢳⡀⠀⠀⠀⠀⠀⠙⢲⡀⠀⠀⠀⠀⠀⠀⠀⠀⠀⠀⠀⠀⠀\n",
       "⠀⠀⠀⠀⠀⠀⠈⠳⡄⠀⠀⠀⠀⠙⢦⣙⠿⣧⡹⣄⠀⠀⠀⠀⠀⠀⠉⠧⣄⠀⠀⠀⠀⠀⠀⠀⠀⠀⠀⠀\n",
       "⠀⠀⠀⠀⠀⠀⠀⠀⠙⣆⠀⠀⠀⠀⠀⠈⠓⢮⣻⣾⡆⠀⠀⠀⠀⠀⠀⠀⠈⠳⣄⠀⠀⠀⠀⠀⠀⠀⠀⠀\n",
       "⠀⠀⠀⠀⠀⠀⠀⠀⠀⠘⠦⣄⠀⠀⠀⠀⠀⠀⠈⠉⣿⣿⡲⢤⡀⠀⠀⠀⠀⠀⠘⣆⠀⠀⠀⠀⠀⠀⠀⠀\n",
       "⠀⠀⠀⠀⠀⠀⠀⠀⠀⠀⠀⠈⠳⣄⠀⠀⠀⠀⠀⠀⠘⣎⢻⣶⣝⠲⣄⠀⠀⠀⠀⠈⢧⠀⠀⠀⠀⠀⠀⠀\n",
       "⠀⠀⠀⠀⠀⠀⠀⠀⠀⠀⠀⠀⠀⠈⢳⣀⠀⠀⠀⠀⠀⠈⢳⡙⠿⣧⣈⠳⣄⠀⠀⠀⠈⠳⡄⠀⠀⠀⠀⠀\n",
       "⠀⠀⠀⠀⠀⠀⠀⠀⠀⠀⠀⠀⠀⠀⠀⠈⠧⡄⠀⠀⠀⠀⠀⠙⢦⡘⢿⣷⡜⢦⠀⠀⠀⠀⠹⣄⠀⠀⠀⠀\n",
       "⠀⠀⠀⠀⠀⠀⠀⠀⠀⠀⠀⠀⠀⠀⠀⠀⠀⠙⢦⡀⠀⠀⠀⠀⠀⠙⠲⣍⡻⣮⣧⠀⠀⠀⠀⠘⢦⠀⠀⠀\n",
       "⠀⠀⠀⠀⠀⠀⠀⠀⠀⠀⠀⠀⠀⠀⠀⠀⠀⠀⠀⠙⠲⢤⡀⠀⠀⠀⠀⠀⠉⠛⢻⣶⣤⣀⠀⠀⠀⣇⠀⠀\n",
       "⠀⠀⠀⠀⠀⠀⠀⠀⠀⠀⠀⠀⠀⠀⠀⠀⠀⠀⠀⠀⠀⠀⠉⠓⢦⡀⠀⠀⠀⠀⠀⢻⣻⣾⡳⣄⠀⠸⡄⠀\n",
       "⠀⠀⠀⠀⠀⠀⠀⠀⠀⠀⠀⠀⠀⠀⠀⠀⠀⠀⠀⠀⠀⠀⠀⠀⠀⠉⠓⢦⣀⠀⠀⠀⠙⢮⣿⣿⣧⡀⠹⡄\n",
       "⠀⠀⠀⠀⠀⠀⠀⠀⠀⠀⠀⠀⠀⠀⠀⠀⠀⠀⠀⠀⠀⠀⠀⠀⠀⠀⠀⠀⠈⠓⠤⢤⣀⡀⠉⠻⠿⣧⣀⠳\n",
       "⠀⠀⠀⠀⠀⠀⠀⠀⠀⠀⠀⠀⠀⠀⠀⠀⠀⠀⠀⠀⠀⠀⠀⠀⠀⠀⠀⠀⠀⠀⠀⠀⠀⠉⠓⠦⢤⡘⠿⣧"
      ]
     },
     "metadata": {},
     "execution_count": 51
    }
   ],
   "source": [
    "@time Ad = Sqra.adjacency(sbd)"
   ]
  },
  {
   "cell_type": "code",
   "execution_count": 52,
   "metadata": {},
   "outputs": [
    {
     "output_type": "stream",
     "name": "stdout",
     "text": [
      "  0.021083 seconds (194.97 k allocations: 11.696 MiB)\n"
     ]
    },
    {
     "output_type": "execute_result",
     "data": {
      "text/plain": [
       "6974×6974 SparseArrays.SparseMatrixCSC{Int64, Int64} with 44262 stored entries:\n",
       "⢿⣷⣌⠓⠲⢤⣀⡀⠀⠀⠀⠀⠀⠀⠀⠀⠀⠀⠀⠀⠀⠀⠀⠀⠀⠀⠀⠀⠀⠀⠀⠀⠀⠀⠀⠀⠀⢦⠀⠀\n",
       "⢦⠙⢻⣶⣤⣀⠀⠉⠙⠶⢤⡀⠀⠀⠀⠀⠀⠀⠀⠀⠀⠀⠀⠀⠀⠀⠀⠀⠀⠀⠀⠀⠀⠀⠀⠀⠀⠈⠙⠂\n",
       "⠘⣆⠀⢻⣻⣾⡳⣄⠀⠀⠀⠉⠓⢦⡀⠀⠀⠀⠀⠀⠀⠀⠀⠀⠀⠀⠀⠀⠀⠀⠀⠀⠀⠀⠀⠀⠀⠀⠀⠀\n",
       "⠀⠸⡄⠀⠙⢮⣻⣾⣳⡀⠀⠀⠀⠀⠈⠓⢦⡀⠀⠀⠀⠀⠀⠀⠀⠀⠀⠀⠀⠀⠀⠀⠀⠀⠀⠀⠀⠀⠀⠀\n",
       "⠀⠀⢳⡄⠀⠀⠙⠺⢿⣷⣀⡀⠀⠀⠀⠀⠀⠉⠳⣤⣀⠀⠀⠀⠀⠀⠀⠀⠀⠀⠀⠀⠀⠀⠀⠀⠀⠀⠀⠀\n",
       "⠀⠀⠀⠳⡄⠀⠀⠀⠀⠸⡿⣯⡑⢦⣀⠀⠀⠀⠀⠈⠈⢧⡀⠀⠀⠀⠀⠀⠀⠀⠀⠀⠀⠀⠀⠀⠀⠀⠀⠀\n",
       "⠀⠀⠀⠀⠹⣄⠀⠀⠀⠀⠱⣌⢻⣶⣌⠳⣄⠀⠀⠀⠀⠀⠙⢦⡀⠀⠀⠀⠀⠀⠀⠀⠀⠀⠀⠀⠀⠀⠀⠀\n",
       "⠀⠀⠀⠀⠀⠈⢦⠀⠀⠀⠀⠘⢦⡙⠻⣦⣌⢳⡀⠀⠀⠀⠀⠀⠙⢲⡀⠀⠀⠀⠀⠀⠀⠀⠀⠀⠀⠀⠀⠀\n",
       "⠀⠀⠀⠀⠀⠀⠈⠳⡄⠀⠀⠀⠀⠙⢦⣙⠿⣧⡹⣄⠀⠀⠀⠀⠀⠀⠉⠧⣄⠀⠀⠀⠀⠀⠀⠀⠀⠀⠀⠀\n",
       "⠀⠀⠀⠀⠀⠀⠀⠀⠙⣦⡀⠀⠀⠀⠀⠈⠓⢮⣻⣾⡆⠀⠀⠀⠀⠀⠀⠀⠈⠳⣄⠀⠀⠀⠀⠀⠀⠀⠀⠀\n",
       "⠀⠀⠀⠀⠀⠀⠀⠀⠀⠘⠦⣄⠀⠀⠀⠀⠀⠀⠈⠉⣿⣿⡲⢤⡀⠀⠀⠀⠀⠀⠛⣆⠀⠀⠀⠀⠀⠀⠀⠀\n",
       "⠀⠀⠀⠀⠀⠀⠀⠀⠀⠀⠀⠈⠳⣄⠀⠀⠀⠀⠀⠀⠘⣎⢻⣶⣝⠲⣄⠀⠀⠀⠀⠈⢧⠀⠀⠀⠀⠀⠀⠀\n",
       "⠀⠀⠀⠀⠀⠀⠀⠀⠀⠀⠀⠀⠀⠈⢳⣀⠀⠀⠀⠀⠀⠈⢳⡙⠿⣧⣈⠳⣄⠀⠀⠀⠈⠳⡄⠀⠀⠀⠀⠀\n",
       "⠀⠀⠀⠀⠀⠀⠀⠀⠀⠀⠀⠀⠀⠀⠀⠈⠧⡄⠀⠀⠀⠀⠀⠙⢦⡘⢿⣷⡜⢦⠀⠀⠀⠀⠹⣄⠀⠀⠀⠀\n",
       "⠀⠀⠀⠀⠀⠀⠀⠀⠀⠀⠀⠀⠀⠀⠀⠀⠀⠙⢦⡀⠀⠀⠀⠀⠀⠙⠲⣍⡻⣮⣧⠀⠀⠀⠀⠘⢦⠀⠀⠀\n",
       "⠀⠀⠀⠀⠀⠀⠀⠀⠀⠀⠀⠀⠀⠀⠀⠀⠀⠀⠀⠙⠻⢤⡀⠀⠀⠀⠀⠀⠉⠛⢻⣶⣤⣀⠀⠀⠀⣇⠀⠀\n",
       "⠀⠀⠀⠀⠀⠀⠀⠀⠀⠀⠀⠀⠀⠀⠀⠀⠀⠀⠀⠀⠀⠀⠉⠓⢦⡀⠀⠀⠀⠀⠀⢻⣻⣾⡳⣄⠀⠸⡄⠀\n",
       "⠀⠀⠀⠀⠀⠀⠀⠀⠀⠀⠀⠀⠀⠀⠀⠀⠀⠀⠀⠀⠀⠀⠀⠀⠀⠉⠓⢦⣀⠀⠀⠀⠙⢮⣿⣿⣧⡀⠹⡄\n",
       "⠠⣄⡀⠀⠀⠀⠀⠀⠀⠀⠀⠀⠀⠀⠀⠀⠀⠀⠀⠀⠀⠀⠀⠀⠀⠀⠀⠀⠈⠓⠤⢤⣀⡀⠉⠻⠿⣧⣀⠳\n",
       "⠀⠀⠳⠀⠀⠀⠀⠀⠀⠀⠀⠀⠀⠀⠀⠀⠀⠀⠀⠀⠀⠀⠀⠀⠀⠀⠀⠀⠀⠀⠀⠀⠀⠉⠓⠦⢤⡘⠿⣧"
      ]
     },
     "metadata": {},
     "execution_count": 52
    }
   ],
   "source": [
    "@time Am = Sqra.adjacency(sbm)"
   ]
  },
  {
   "cell_type": "code",
   "execution_count": 53,
   "metadata": {},
   "outputs": [
    {
     "output_type": "stream",
     "name": "stdout",
     "text": [
      "562\n(Am[i], Ad[i]) = (1, 0)\n"
     ]
    },
    {
     "output_type": "execute_result",
     "data": {
      "text/plain": [
       "6×2 Matrix{Int64}:\n",
       " 6  1\n",
       " 2  3\n",
       " 2  2\n",
       " 3  3\n",
       " 4  4\n",
       " 3  3"
      ]
     },
     "metadata": {},
     "execution_count": 53
    }
   ],
   "source": [
    "# false positives\n",
    "(Am .> Ad) |> sum |> println\n",
    "i=findfirst(Am .> Ad)\n",
    "@show Am[i], Ad[i]\n",
    "Sqra.boxmatrix(sbm)[:, [Tuple(i)...]]"
   ]
  },
  {
   "cell_type": "code",
   "execution_count": 45,
   "metadata": {},
   "outputs": [
    {
     "output_type": "stream",
     "name": "stdout",
     "text": [
      "5728\n(Am[i], Ad[i]) = (0, 1)\n"
     ]
    },
    {
     "output_type": "execute_result",
     "data": {
      "text/plain": [
       "6×2 Matrix{Int64}:\n",
       " 1  1\n",
       " 2  1\n",
       " 3  3\n",
       " 2  2\n",
       " 3  3\n",
       " 3  3"
      ]
     },
     "metadata": {},
     "execution_count": 45
    }
   ],
   "source": [
    "# false negatives\n",
    "(Am .< Ad) |> sum |> println\n",
    "i=findfirst(Am .< Ad)\n",
    "@show Am[i], Ad[i]\n",
    "Sqra.boxmatrix(sbm)[:, [Tuple(i)...]]"
   ]
  },
  {
   "cell_type": "code",
   "execution_count": 56,
   "metadata": {},
   "outputs": [
    {
     "output_type": "stream",
     "name": "stdout",
     "text": [
      "41453252\n80655616\n240000040\n"
     ]
    }
   ],
   "source": [
    "Base.summarysize(sbd) |> println\n",
    "Base.summarysize(sbm) |> println\n",
    "Base.summarysize(e.sim.x) |> println\n"
   ]
  },
  {
   "cell_type": "code",
   "execution_count": null,
   "metadata": {},
   "outputs": [],
   "source": []
  }
 ]
}